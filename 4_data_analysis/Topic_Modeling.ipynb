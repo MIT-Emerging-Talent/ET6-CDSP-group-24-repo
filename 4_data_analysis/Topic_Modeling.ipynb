{
  "cells": [
    {
      "cell_type": "markdown",
      "metadata": {
        "id": "6UKYBU3SOFfO"
      },
      "source": [
        "# **BERTopic Analysis**\n",
        "**Overview**\n",
        "\n",
        "This analysis uses BERTopic, an advanced topic modeling technique that combines transformer-based embeddings with clustering algorithms to automatically discover topics in text data. We're analyzing a dataset focused on disability and digital inclusion themes."
      ]
    },
    {
      "cell_type": "markdown",
      "metadata": {
        "id": "FuZuj1kCPUZm"
      },
      "source": [
        "# Installation and Setup\n",
        "The required library is installed first (run only once in Google Colab):\n"
      ]
    },
    {
      "cell_type": "code",
      "execution_count": null,
      "metadata": {
        "id": "2MX8SRdzs5UT"
      },
      "outputs": [],
      "source": [
        "# Import required libraries\n",
        "import pandas as pd\n",
        "from bertopic import BERTopic\n",
        "from umap import UMAP\n",
        "from hdbscan import HDBSCAN\n",
        "from sklearn.feature_extraction.text import CountVectorizer\n",
        "import random"
      ]
    },
    {
      "cell_type": "code",
      "execution_count": null,
      "metadata": {
        "id": "rD6vgR8BpaBW"
      },
      "outputs": [],
      "source": [
        "# Set random seed for reproducible results\n",
        "random.seed(42)"
      ]
    },
    {
      "cell_type": "markdown",
      "metadata": {
        "id": "3NrE7lJ7P3rW"
      },
      "source": [
        "# Data Loading and Theme Extraction\n",
        "\n",
        "Load the dataset and separate it into different thematic categories for potential individual analysis:\n"
      ]
    },
    {
      "cell_type": "code",
      "execution_count": null,
      "metadata": {
        "id": "EqfdEHGbs7Wh"
      },
      "outputs": [],
      "source": [
        "# Step 1 – Load the pre-cleaned text dataset and make a dataframe for each theme\n",
        "df = pd.read_csv(\"../1_datasets/processed_data/cleaned_datasets.csv\") #Load the main dataset\n",
        "\n",
        "# Create separate dataframes for each thematic category\n",
        "barrier_to_access =df[df['theme'] == \"barriers_to_access\"] # Documents about access obstacles\n",
        "digital_infrastructure = df[df['theme'] == \"digital_infrastructure\"]  # Infrastructure-related documents\n",
        "inclusive_digital_technology = df[df['theme'] == \"inclusive_digital_technology\"] # Accessibility tech documents\n"
      ]
    },
    {
      "cell_type": "markdown",
      "metadata": {
        "id": "85Cb1hhjRHX2"
      },
      "source": [
        "**Purpose:** This step loads the preprocessed dataset and organizes it by predefined themes. While separate dataframes are created, all documents will be analyzed together to discover cross-cutting topics."
      ]
    },
    {
      "cell_type": "markdown",
      "metadata": {
        "id": "e_3DdRKjRpj1"
      },
      "source": [
        "# Text Preprocessing and Stopword Configuration\n",
        "Define domain-specific stopwords to focus on meaningful topic-distinguishing terms:"
      ]
    },
    {
      "cell_type": "code",
      "execution_count": null,
      "metadata": {
        "id": "NLi9P-nhs-z1"
      },
      "outputs": [],
      "source": [
        "# Define words to ignore\n",
        "disability_domain_stopwords = [\n",
        "        'disability', 'disabled', 'person', 'people',\n",
        "        'africa', 'african', 'report', 'study',\n",
        "        'research', 'data', 'information', \"nigeria\", \"india\", \"2024\", \"non\", \"percent\", \"sta\", \"et\",\"al\",\"100\",\n",
        "        \"au\", \"2020\", \"akinola\", \"at\"\n",
        "    ]"
      ]
    },
    {
      "cell_type": "code",
      "execution_count": null,
      "metadata": {
        "id": "34IgLhOUq-C-"
      },
      "outputs": [],
      "source": [
        "# Modify for specific theme or all datasets\n",
        "docs = df[\"cleaned_text\"].tolist() # Convert pandas Series to list format required by BERTopic"
      ]
    },
    {
      "cell_type": "markdown",
      "metadata": {
        "id": "4M9-mGrZx13g"
      },
      "source": [
        "**Purpose:** Preparing the text data by removing domain-specific common words that don't contribute to meaningful topic differentiation."
      ]
    },
    {
      "cell_type": "markdown",
      "metadata": {
        "id": "at_NdHzfr315"
      },
      "source": [
        "# Model Configuration\n",
        "Set up the vectorizer, clustering algorithm, and dimensionality reduction components:\n",
        "\n",
        "\n"
      ]
    },
    {
      "cell_type": "code",
      "execution_count": null,
      "metadata": {
        "id": "1XGgBYAfqn-f"
      },
      "outputs": [],
      "source": [
        "    # Create vectorizer that ignores these words\n",
        "vectorizer_model = CountVectorizer(\n",
        "        stop_words=disability_domain_stopwords, # Apply custom stopwords\n",
        "        min_df=2,                    # Ignore words appearing in <2 documents\n",
        "        max_df=0.8,                  # Ignore words appearing in >80% of documents\n",
        "        ngram_range=(1, 3)           # Include 1-3 word phrases\n",
        "    )\n"
      ]
    },
    {
      "cell_type": "code",
      "execution_count": null,
      "metadata": {
        "id": "nigExguaqwzM"
      },
      "outputs": [],
      "source": [
        "# Configure clustering algorithm for small, cohesive clusters\n",
        "hdbscan_model = HDBSCAN(min_cluster_size=2, min_samples=1) # Very permissive clustering settings\n"
      ]
    },
    {
      "cell_type": "markdown",
      "metadata": {
        "id": "0wRO3Wjmx58U"
      },
      "source": [
        "**Purpose:** Configuring the core components of BERTopic including text vectorization and clustering parameters to optimize topic discovery for our specific dataset."
      ]
    },
    {
      "cell_type": "markdown",
      "metadata": {
        "id": "BvJ7dDZEr7lW"
      },
      "source": [
        "# Dimensionality Reduction Configuration\n",
        "\n"
      ]
    },
    {
      "cell_type": "code",
      "execution_count": null,
      "metadata": {
        "id": "4oOIf7peqqkA"
      },
      "outputs": [],
      "source": [
        "# Configure UMAP for dimensionality reduction of document embeddings\n",
        "umap_model = UMAP(\n",
        "    n_neighbors=15,     # Lower values focus on local structure, good for fine-grained topics\n",
        "    n_components=5,     # Number of dimensions to reduce to (typical range: 5–15)\n",
        "    min_dist=0.0,       # Allows tight clustering of points\n",
        "    metric='cosine',    # Better for semantic embeddings like BERT\n",
        ")\n"
      ]
    },
    {
      "cell_type": "markdown",
      "metadata": {
        "id": "OdL1w-w9yFUb"
      },
      "source": [
        "**Purpose:** Setting up UMAP (Uniform Manifold Approximation and Projection) to reduce the high-dimensional document embeddings while preserving semantic relationships, enabling better clustering and visualization.\n"
      ]
    },
    {
      "cell_type": "markdown",
      "metadata": {
        "id": "N7eXbawIr8TJ"
      },
      "source": [
        "# Model Training and Topic Discovery\n",
        "Initialize and train the BERTopic model:\n"
      ]
    },
    {
      "cell_type": "code",
      "execution_count": null,
      "metadata": {
        "colab": {
          "base_uri": "https://localhost:8080/",
          "height": 443
        },
        "id": "pTHiOPGWq2yD",
        "outputId": "9c4a180d-86cf-4808-fa56-c8c7ed959e2a"
      },
      "outputs": [
        {
          "name": "stderr",
          "output_type": "stream",
          "text": [
            "100%|██████████| 10/10 [00:00<00:00, 181.52it/s]\n"
          ]
        },
        {
          "data": {
            "application/vnd.google.colaboratory.intrinsic+json": {
              "summary": "{\n  \"name\": \"topic_model\",\n  \"rows\": 12,\n  \"fields\": [\n    {\n      \"column\": \"Topic\",\n      \"properties\": {\n        \"dtype\": \"number\",\n        \"std\": 3,\n        \"min\": -1,\n        \"max\": 10,\n        \"num_unique_values\": 12,\n        \"samples\": [\n          9,\n          8,\n          -1\n        ],\n        \"semantic_type\": \"\",\n        \"description\": \"\"\n      }\n    },\n    {\n      \"column\": \"Count\",\n      \"properties\": {\n        \"dtype\": \"number\",\n        \"std\": 1,\n        \"min\": 2,\n        \"max\": 6,\n        \"num_unique_values\": 5,\n        \"samples\": [\n          3,\n          5,\n          6\n        ],\n        \"semantic_type\": \"\",\n        \"description\": \"\"\n      }\n    },\n    {\n      \"column\": \"Name\",\n      \"properties\": {\n        \"dtype\": \"string\",\n        \"num_unique_values\": 12,\n        \"samples\": [\n          \"9_nancial_survey_figure_household\",\n          \"8_ai_dataset_governance_ibid\",\n          \"-1_ict_intellectual_national_communication technology\"\n        ],\n        \"semantic_type\": \"\",\n        \"description\": \"\"\n      }\n    },\n    {\n      \"column\": \"Representation\",\n      \"properties\": {\n        \"dtype\": \"object\",\n        \"semantic_type\": \"\",\n        \"description\": \"\"\n      }\n    },\n    {\n      \"column\": \"Representative_Docs\",\n      \"properties\": {\n        \"dtype\": \"object\",\n        \"semantic_type\": \"\",\n        \"description\": \"\"\n      }\n    }\n  ]\n}",
              "type": "dataframe"
            },
            "text/html": [
              "\n",
              "  <div id=\"df-12d397b0-bd2f-4049-a6f3-16faa8678c86\" class=\"colab-df-container\">\n",
              "    <div>\n",
              "<style scoped>\n",
              "    .dataframe tbody tr th:only-of-type {\n",
              "        vertical-align: middle;\n",
              "    }\n",
              "\n",
              "    .dataframe tbody tr th {\n",
              "        vertical-align: top;\n",
              "    }\n",
              "\n",
              "    .dataframe thead th {\n",
              "        text-align: right;\n",
              "    }\n",
              "</style>\n",
              "<table border=\"1\" class=\"dataframe\">\n",
              "  <thead>\n",
              "    <tr style=\"text-align: right;\">\n",
              "      <th></th>\n",
              "      <th>Topic</th>\n",
              "      <th>Count</th>\n",
              "      <th>Name</th>\n",
              "      <th>Representation</th>\n",
              "      <th>Representative_Docs</th>\n",
              "    </tr>\n",
              "  </thead>\n",
              "  <tbody>\n",
              "    <tr>\n",
              "      <th>0</th>\n",
              "      <td>-1</td>\n",
              "      <td>4</td>\n",
              "      <td>-1_ict_intellectual_national_communication tec...</td>\n",
              "      <td>[ict, intellectual, national, communication te...</td>\n",
              "      <td>[good practice employment person intellectual ...</td>\n",
              "    </tr>\n",
              "    <tr>\n",
              "      <th>1</th>\n",
              "      <td>0</td>\n",
              "      <td>3</td>\n",
              "      <td>0_centre_tech_accesstech_mtn</td>\n",
              "      <td>[centre, tech, accesstech, mtn, app, button, t...</td>\n",
              "      <td>[blind tech ceo return inspire student pacelli...</td>\n",
              "    </tr>\n",
              "    <tr>\n",
              "      <th>2</th>\n",
              "      <td>1</td>\n",
              "      <td>6</td>\n",
              "      <td>1_digital inclusion_internet access_south_infr...</td>\n",
              "      <td>[digital inclusion, internet access, south, in...</td>\n",
              "      <td>[size distribution digital connectivity gap su...</td>\n",
              "    </tr>\n",
              "    <tr>\n",
              "      <th>3</th>\n",
              "      <td>2</td>\n",
              "      <td>2</td>\n",
              "      <td>2_ai_young_entrepreneur_entrepreneurship</td>\n",
              "      <td>[ai, young, entrepreneur, entrepreneurship, ai...</td>\n",
              "      <td>[innovate inclusion youth disability lead futu...</td>\n",
              "    </tr>\n",
              "    <tr>\n",
              "      <th>4</th>\n",
              "      <td>3</td>\n",
              "      <td>2</td>\n",
              "      <td>3_quality_teacher_approximately_attend</td>\n",
              "      <td>[quality, teacher, approximately, attend, emer...</td>\n",
              "      <td>[transform education begin inclusion  general...</td>\n",
              "    </tr>\n",
              "    <tr>\n",
              "      <th>5</th>\n",
              "      <td>4</td>\n",
              "      <td>5</td>\n",
              "      <td>4_mobile internet_gsma_cost_cent</td>\n",
              "      <td>[mobile internet, gsma, cost, cent, social pro...</td>\n",
              "      <td>[term condition access use find assistive tech...</td>\n",
              "    </tr>\n",
              "    <tr>\n",
              "      <th>6</th>\n",
              "      <td>5</td>\n",
              "      <td>3</td>\n",
              "      <td>5_inclusive datum_sightsaver_safaricom_plan</td>\n",
              "      <td>[inclusive datum, sightsaver, safaricom, plan,...</td>\n",
              "      <td>[empower vulnerable community mtn commitment i...</td>\n",
              "    </tr>\n",
              "    <tr>\n",
              "      <th>7</th>\n",
              "      <td>6</td>\n",
              "      <td>4</td>\n",
              "      <td>6_telecom_director_outlet_panel</td>\n",
              "      <td>[telecom, director, outlet, panel, google, saf...</td>\n",
              "      <td>[man disability catalyst innovation papi sibom...</td>\n",
              "    </tr>\n",
              "    <tr>\n",
              "      <th>8</th>\n",
              "      <td>7</td>\n",
              "      <td>2</td>\n",
              "      <td>7_pwd_digital inclusion_program_project enable</td>\n",
              "      <td>[pwd, digital inclusion, program, project enab...</td>\n",
              "      <td>[strengthen ict accessibility pwd africa post ...</td>\n",
              "    </tr>\n",
              "    <tr>\n",
              "      <th>9</th>\n",
              "      <td>8</td>\n",
              "      <td>2</td>\n",
              "      <td>8_ai_dataset_governance_ibid</td>\n",
              "      <td>[ai, dataset, governance, ibid, funding, pwds,...</td>\n",
              "      <td>[ai assistive technology at person disability ...</td>\n",
              "    </tr>\n",
              "    <tr>\n",
              "      <th>10</th>\n",
              "      <td>9</td>\n",
              "      <td>3</td>\n",
              "      <td>9_nancial_survey_figure_household</td>\n",
              "      <td>[nancial, survey, figure, household, finaccess...</td>\n",
              "      <td>[usability test digital accessibility complian...</td>\n",
              "    </tr>\n",
              "    <tr>\n",
              "      <th>11</th>\n",
              "      <td>10</td>\n",
              "      <td>2</td>\n",
              "      <td>10_digital platform_livelihood_young_platform ...</td>\n",
              "      <td>[digital platform, livelihood, young, platform...</td>\n",
              "      <td>[unlock human potential innovate case study fi...</td>\n",
              "    </tr>\n",
              "  </tbody>\n",
              "</table>\n",
              "</div>\n",
              "    <div class=\"colab-df-buttons\">\n",
              "\n",
              "  <div class=\"colab-df-container\">\n",
              "    <button class=\"colab-df-convert\" onclick=\"convertToInteractive('df-12d397b0-bd2f-4049-a6f3-16faa8678c86')\"\n",
              "            title=\"Convert this dataframe to an interactive table.\"\n",
              "            style=\"display:none;\">\n",
              "\n",
              "  <svg xmlns=\"http://www.w3.org/2000/svg\" height=\"24px\" viewBox=\"0 -960 960 960\">\n",
              "    <path d=\"M120-120v-720h720v720H120Zm60-500h600v-160H180v160Zm220 220h160v-160H400v160Zm0 220h160v-160H400v160ZM180-400h160v-160H180v160Zm440 0h160v-160H620v160ZM180-180h160v-160H180v160Zm440 0h160v-160H620v160Z\"/>\n",
              "  </svg>\n",
              "    </button>\n",
              "\n",
              "  <style>\n",
              "    .colab-df-container {\n",
              "      display:flex;\n",
              "      gap: 12px;\n",
              "    }\n",
              "\n",
              "    .colab-df-convert {\n",
              "      background-color: #E8F0FE;\n",
              "      border: none;\n",
              "      border-radius: 50%;\n",
              "      cursor: pointer;\n",
              "      display: none;\n",
              "      fill: #1967D2;\n",
              "      height: 32px;\n",
              "      padding: 0 0 0 0;\n",
              "      width: 32px;\n",
              "    }\n",
              "\n",
              "    .colab-df-convert:hover {\n",
              "      background-color: #E2EBFA;\n",
              "      box-shadow: 0px 1px 2px rgba(60, 64, 67, 0.3), 0px 1px 3px 1px rgba(60, 64, 67, 0.15);\n",
              "      fill: #174EA6;\n",
              "    }\n",
              "\n",
              "    .colab-df-buttons div {\n",
              "      margin-bottom: 4px;\n",
              "    }\n",
              "\n",
              "    [theme=dark] .colab-df-convert {\n",
              "      background-color: #3B4455;\n",
              "      fill: #D2E3FC;\n",
              "    }\n",
              "\n",
              "    [theme=dark] .colab-df-convert:hover {\n",
              "      background-color: #434B5C;\n",
              "      box-shadow: 0px 1px 3px 1px rgba(0, 0, 0, 0.15);\n",
              "      filter: drop-shadow(0px 1px 2px rgba(0, 0, 0, 0.3));\n",
              "      fill: #FFFFFF;\n",
              "    }\n",
              "  </style>\n",
              "\n",
              "    <script>\n",
              "      const buttonEl =\n",
              "        document.querySelector('#df-12d397b0-bd2f-4049-a6f3-16faa8678c86 button.colab-df-convert');\n",
              "      buttonEl.style.display =\n",
              "        google.colab.kernel.accessAllowed ? 'block' : 'none';\n",
              "\n",
              "      async function convertToInteractive(key) {\n",
              "        const element = document.querySelector('#df-12d397b0-bd2f-4049-a6f3-16faa8678c86');\n",
              "        const dataTable =\n",
              "          await google.colab.kernel.invokeFunction('convertToInteractive',\n",
              "                                                    [key], {});\n",
              "        if (!dataTable) return;\n",
              "\n",
              "        const docLinkHtml = 'Like what you see? Visit the ' +\n",
              "          '<a target=\"_blank\" href=https://colab.research.google.com/notebooks/data_table.ipynb>data table notebook</a>'\n",
              "          + ' to learn more about interactive tables.';\n",
              "        element.innerHTML = '';\n",
              "        dataTable['output_type'] = 'display_data';\n",
              "        await google.colab.output.renderOutput(dataTable, element);\n",
              "        const docLink = document.createElement('div');\n",
              "        docLink.innerHTML = docLinkHtml;\n",
              "        element.appendChild(docLink);\n",
              "      }\n",
              "    </script>\n",
              "  </div>\n",
              "\n",
              "\n",
              "    <div id=\"df-825eb811-f08c-4b1e-b157-f4455e98b5d4\">\n",
              "      <button class=\"colab-df-quickchart\" onclick=\"quickchart('df-825eb811-f08c-4b1e-b157-f4455e98b5d4')\"\n",
              "                title=\"Suggest charts\"\n",
              "                style=\"display:none;\">\n",
              "\n",
              "<svg xmlns=\"http://www.w3.org/2000/svg\" height=\"24px\"viewBox=\"0 0 24 24\"\n",
              "     width=\"24px\">\n",
              "    <g>\n",
              "        <path d=\"M19 3H5c-1.1 0-2 .9-2 2v14c0 1.1.9 2 2 2h14c1.1 0 2-.9 2-2V5c0-1.1-.9-2-2-2zM9 17H7v-7h2v7zm4 0h-2V7h2v10zm4 0h-2v-4h2v4z\"/>\n",
              "    </g>\n",
              "</svg>\n",
              "      </button>\n",
              "\n",
              "<style>\n",
              "  .colab-df-quickchart {\n",
              "      --bg-color: #E8F0FE;\n",
              "      --fill-color: #1967D2;\n",
              "      --hover-bg-color: #E2EBFA;\n",
              "      --hover-fill-color: #174EA6;\n",
              "      --disabled-fill-color: #AAA;\n",
              "      --disabled-bg-color: #DDD;\n",
              "  }\n",
              "\n",
              "  [theme=dark] .colab-df-quickchart {\n",
              "      --bg-color: #3B4455;\n",
              "      --fill-color: #D2E3FC;\n",
              "      --hover-bg-color: #434B5C;\n",
              "      --hover-fill-color: #FFFFFF;\n",
              "      --disabled-bg-color: #3B4455;\n",
              "      --disabled-fill-color: #666;\n",
              "  }\n",
              "\n",
              "  .colab-df-quickchart {\n",
              "    background-color: var(--bg-color);\n",
              "    border: none;\n",
              "    border-radius: 50%;\n",
              "    cursor: pointer;\n",
              "    display: none;\n",
              "    fill: var(--fill-color);\n",
              "    height: 32px;\n",
              "    padding: 0;\n",
              "    width: 32px;\n",
              "  }\n",
              "\n",
              "  .colab-df-quickchart:hover {\n",
              "    background-color: var(--hover-bg-color);\n",
              "    box-shadow: 0 1px 2px rgba(60, 64, 67, 0.3), 0 1px 3px 1px rgba(60, 64, 67, 0.15);\n",
              "    fill: var(--button-hover-fill-color);\n",
              "  }\n",
              "\n",
              "  .colab-df-quickchart-complete:disabled,\n",
              "  .colab-df-quickchart-complete:disabled:hover {\n",
              "    background-color: var(--disabled-bg-color);\n",
              "    fill: var(--disabled-fill-color);\n",
              "    box-shadow: none;\n",
              "  }\n",
              "\n",
              "  .colab-df-spinner {\n",
              "    border: 2px solid var(--fill-color);\n",
              "    border-color: transparent;\n",
              "    border-bottom-color: var(--fill-color);\n",
              "    animation:\n",
              "      spin 1s steps(1) infinite;\n",
              "  }\n",
              "\n",
              "  @keyframes spin {\n",
              "    0% {\n",
              "      border-color: transparent;\n",
              "      border-bottom-color: var(--fill-color);\n",
              "      border-left-color: var(--fill-color);\n",
              "    }\n",
              "    20% {\n",
              "      border-color: transparent;\n",
              "      border-left-color: var(--fill-color);\n",
              "      border-top-color: var(--fill-color);\n",
              "    }\n",
              "    30% {\n",
              "      border-color: transparent;\n",
              "      border-left-color: var(--fill-color);\n",
              "      border-top-color: var(--fill-color);\n",
              "      border-right-color: var(--fill-color);\n",
              "    }\n",
              "    40% {\n",
              "      border-color: transparent;\n",
              "      border-right-color: var(--fill-color);\n",
              "      border-top-color: var(--fill-color);\n",
              "    }\n",
              "    60% {\n",
              "      border-color: transparent;\n",
              "      border-right-color: var(--fill-color);\n",
              "    }\n",
              "    80% {\n",
              "      border-color: transparent;\n",
              "      border-right-color: var(--fill-color);\n",
              "      border-bottom-color: var(--fill-color);\n",
              "    }\n",
              "    90% {\n",
              "      border-color: transparent;\n",
              "      border-bottom-color: var(--fill-color);\n",
              "    }\n",
              "  }\n",
              "</style>\n",
              "\n",
              "      <script>\n",
              "        async function quickchart(key) {\n",
              "          const quickchartButtonEl =\n",
              "            document.querySelector('#' + key + ' button');\n",
              "          quickchartButtonEl.disabled = true;  // To prevent multiple clicks.\n",
              "          quickchartButtonEl.classList.add('colab-df-spinner');\n",
              "          try {\n",
              "            const charts = await google.colab.kernel.invokeFunction(\n",
              "                'suggestCharts', [key], {});\n",
              "          } catch (error) {\n",
              "            console.error('Error during call to suggestCharts:', error);\n",
              "          }\n",
              "          quickchartButtonEl.classList.remove('colab-df-spinner');\n",
              "          quickchartButtonEl.classList.add('colab-df-quickchart-complete');\n",
              "        }\n",
              "        (() => {\n",
              "          let quickchartButtonEl =\n",
              "            document.querySelector('#df-825eb811-f08c-4b1e-b157-f4455e98b5d4 button');\n",
              "          quickchartButtonEl.style.display =\n",
              "            google.colab.kernel.accessAllowed ? 'block' : 'none';\n",
              "        })();\n",
              "      </script>\n",
              "    </div>\n",
              "\n",
              "    </div>\n",
              "  </div>\n"
            ],
            "text/plain": [
              "    Topic  Count                                               Name  \\\n",
              "0      -1      4  -1_ict_intellectual_national_communication tec...   \n",
              "1       0      3                       0_centre_tech_accesstech_mtn   \n",
              "2       1      6  1_digital inclusion_internet access_south_infr...   \n",
              "3       2      2           2_ai_young_entrepreneur_entrepreneurship   \n",
              "4       3      2             3_quality_teacher_approximately_attend   \n",
              "5       4      5                   4_mobile internet_gsma_cost_cent   \n",
              "6       5      3        5_inclusive datum_sightsaver_safaricom_plan   \n",
              "7       6      4                    6_telecom_director_outlet_panel   \n",
              "8       7      2     7_pwd_digital inclusion_program_project enable   \n",
              "9       8      2                       8_ai_dataset_governance_ibid   \n",
              "10      9      3                  9_nancial_survey_figure_household   \n",
              "11     10      2  10_digital platform_livelihood_young_platform ...   \n",
              "\n",
              "                                       Representation  \\\n",
              "0   [ict, intellectual, national, communication te...   \n",
              "1   [centre, tech, accesstech, mtn, app, button, t...   \n",
              "2   [digital inclusion, internet access, south, in...   \n",
              "3   [ai, young, entrepreneur, entrepreneurship, ai...   \n",
              "4   [quality, teacher, approximately, attend, emer...   \n",
              "5   [mobile internet, gsma, cost, cent, social pro...   \n",
              "6   [inclusive datum, sightsaver, safaricom, plan,...   \n",
              "7   [telecom, director, outlet, panel, google, saf...   \n",
              "8   [pwd, digital inclusion, program, project enab...   \n",
              "9   [ai, dataset, governance, ibid, funding, pwds,...   \n",
              "10  [nancial, survey, figure, household, finaccess...   \n",
              "11  [digital platform, livelihood, young, platform...   \n",
              "\n",
              "                                  Representative_Docs  \n",
              "0   [good practice employment person intellectual ...  \n",
              "1   [blind tech ceo return inspire student pacelli...  \n",
              "2   [size distribution digital connectivity gap su...  \n",
              "3   [innovate inclusion youth disability lead futu...  \n",
              "4   [transform education begin inclusion  general...  \n",
              "5   [term condition access use find assistive tech...  \n",
              "6   [empower vulnerable community mtn commitment i...  \n",
              "7   [man disability catalyst innovation papi sibom...  \n",
              "8   [strengthen ict accessibility pwd africa post ...  \n",
              "9   [ai assistive technology at person disability ...  \n",
              "10  [usability test digital accessibility complian...  \n",
              "11  [unlock human potential innovate case study fi...  "
            ]
          },
          "execution_count": 82,
          "metadata": {},
          "output_type": "execute_result"
        }
      ],
      "source": [
        "# Instantiate BERTopic model with configured components\n",
        "topic_model = BERTopic(\n",
        "    language=\"english\", # Specify language for optimized processing\n",
        "    hdbscan_model=hdbscan_model, # Use configured clustering algorithm\n",
        "    nr_topics=15, # Force creation of exactly 15 topics\n",
        "    vectorizer_model=vectorizer_model,\n",
        "    )  # Apply custom vectorizer with stopwords\n",
        "\n",
        "# Train the model and assign topics to documents\n",
        "topics, probs = topic_model.fit_transform(docs) # topics: topic assignments, probs: assignment probabilities\n",
        "\n",
        "# Create topic hierarchy for understanding relationships\n",
        "hierarchical_topics = topic_model.hierarchical_topics(docs)\n",
        "\n",
        "# Check the model\n",
        "topic_model.get_topic_info()\n"
      ]
    },
    {
      "cell_type": "markdown",
      "metadata": {
        "id": "Jc2REn4vS64i"
      },
      "source": [
        "**Purpose:** This comprehensive step handles all model configuration including custom stopwords definition, text vectorization, clustering parameters, model instantiation, training, and hierarchical topic analysis. The custom stopwords remove domain-specific common terms, the vectorizer focuses on meaningful phrases, permissive clustering allows specialized topics, and the complete pipeline generates topic assignments with hierarchical relationships."
      ]
    },
    {
      "cell_type": "markdown",
      "metadata": {
        "id": "V9_B32tqTAIs"
      },
      "source": [
        "# Representative Document Analysis\n",
        "Sample documents for each topic are examined to understand their content:"
      ]
    },
    {
      "cell_type": "code",
      "execution_count": null,
      "metadata": {
        "colab": {
          "base_uri": "https://localhost:8080/"
        },
        "id": "sfsNlQbcWp4a",
        "outputId": "338676dd-c779-4171-d583-c2ddba43e49d"
      },
      "outputs": [
        {
          "name": "stdout",
          "output_type": "stream",
          "text": [
            "\n",
            "--- TOPIC 6 ---\n",
            "\n",
            "man disability catalyst innovation papi sibomana photo credit patrick nzabonimpa deep readquick read patrick nzabonimpa 2014 papi sibomana travel india hope treatment repair vision lose year early arrive optimism hope dash tell impairment incurable instead treatment refer rehabilitation centre month\n",
            "telecom operators africa fail person disability august 2020 access deny introduction research design scope result availability accessible handset sale outlet promotion awareness accessible mobile telecommunication procurement policy accessible handset physical accessibility sale outlet capacity tele\n",
            "theme digital accessibility assistive technology africa level knowledge document day 29- 2023 opening remark irene mbari kirika founder executive director inable key takeaway disability long term phenomenon collaboration important change generation come access unity purpose change generation come wo\n",
            "\n",
            "--- TOPIC 4 ---\n",
            "\n",
            "term condition access use find assistive technology official journal resna issn print online journal homepage social protection access assistive technology low- middle income country alexandre cote cite article alexandre cote 2021 social protection access assistive technology low- middle income coun\n",
            "mobile disability gap report 2021 mobile disability gap report 2021 december 2021 copyright © 2021 gsm association gsma represent interest mobile operator worldwide unite 750 operator 400 company broad mobile ecosystem include handset device maker software company equipment provider internet company\n",
            "empower person disability digital innovation insight gsma innovation fund assistive tech copyright © 2023 gsma gsma global organisation unify mobile ecosystem discover develop deliver innovation foundational positive business environment societal change vision unlock power connectivity people indust\n",
            "\n",
            "--- TOPIC 1 ---\n",
            "\n",
            "size distribution digital connectivity gap sub saharan africa poverty p o v e r t y n d e q u t y equitable growth finance institution insight feraud tchuisser seuyong ani rudra silwal tania begazo david newhouse alain n'ghauran public disclosure authorize public disclosure authorize public disclosu\n",
            "vol.:(0123456789 discover global society 2025 3:54 | discover global society research bridge digital divide explore challenge solution digital exclusion rural south africa gardner mwansa1 matipa ricky ngandu1 zolisa mkwambi2 receive january 2025 accept 2025 © author(s 2025 open abstract digital excl\n",
            "assessment digital inclusion vulnerable person develop economy fredrick kanobe olusegun ademolu ajigini denis ssebuggwawo bartha alexandra nantogo emmanuel mukosi lerato moyane assessment digital inclusion vulnerable person develop economy november 2022 fredrick kanobe kyambogo university olusegun a\n",
            "\n",
            "--- TOPIC 4 ---\n",
            "\n",
            "term condition access use find assistive technology official journal resna issn print online journal homepage social protection access assistive technology low- middle income country alexandre cote cite article alexandre cote 2021 social protection access assistive technology low- middle income coun\n",
            "mobile disability gap report 2021 mobile disability gap report 2021 december 2021 copyright © 2021 gsm association gsma represent interest mobile operator worldwide unite 750 operator 400 company broad mobile ecosystem include handset device maker software company equipment provider internet company\n",
            "empower person disability digital innovation insight gsma innovation fund assistive tech copyright © 2023 gsma gsma global organisation unify mobile ecosystem discover develop deliver innovation foundational positive business environment societal change vision unlock power connectivity people indust\n",
            "\n",
            "--- TOPIC 4 ---\n",
            "\n",
            "term condition access use find assistive technology official journal resna issn print online journal homepage social protection access assistive technology low- middle income country alexandre cote cite article alexandre cote 2021 social protection access assistive technology low- middle income coun\n",
            "mobile disability gap report 2021 mobile disability gap report 2021 december 2021 copyright © 2021 gsm association gsma represent interest mobile operator worldwide unite 750 operator 400 company broad mobile ecosystem include handset device maker software company equipment provider internet company\n",
            "empower person disability digital innovation insight gsma innovation fund assistive tech copyright © 2023 gsma gsma global organisation unify mobile ecosystem discover develop deliver innovation foundational positive business environment societal change vision unlock power connectivity people indust\n",
            "\n",
            "--- TOPIC 7 ---\n",
            "\n",
            "strengthen ict accessibility pwd africa post nicodemus nyakundion september 2024 digital age transform communication education economic opportunity people disability pwds africa face challenge access digital revolution address issue cipesa cipe thomson reuters organize session title strengthen ict a\n",
            "foster digital inclusion nigeria person disability digital inclusion crucial factor ensure marginalize community mainly person disability pwd nigeria fully participate social economic educational sphere article explore significant barrier pwd face include physical economic social obstacle hinder acc\n",
            "\n",
            "--- TOPIC 0 ---\n",
            "\n",
            "blind tech ceo return inspire student pacelli student lead digital skill training y'ello care year ago opeolu stephen akinola walk corridor pacelli school blind partially sight child surulere student big dream uncertain pathway wednesday june 2025 return student ceo mentor living proof differently a\n",
            "assistive tech screen reader audio describe software film inside opeoluwa akinola mission empower people disability bynathaniel bivanmay 2025 image source techcabal year old opeoluwa akinola begin lose sight diagnose retinitis pigmentosa rare genetic disorder gradually narrow field vision sight rema\n",
            "assistive tech leave million nigerian use technology afterthought byjohn adoyijun 2025 image source unsplash nigeria estimate million person disability pwd roughly population accord national commission person disability ncpwd represent market large african country entire population digital need rema\n",
            "\n",
            "--- TOPIC 0 ---\n",
            "\n",
            "blind tech ceo return inspire student pacelli student lead digital skill training y'ello care year ago opeolu stephen akinola walk corridor pacelli school blind partially sight child surulere student big dream uncertain pathway wednesday june 2025 return student ceo mentor living proof differently a\n",
            "assistive tech screen reader audio describe software film inside opeoluwa akinola mission empower people disability bynathaniel bivanmay 2025 image source techcabal year old opeoluwa akinola begin lose sight diagnose retinitis pigmentosa rare genetic disorder gradually narrow field vision sight rema\n",
            "assistive tech leave million nigerian use technology afterthought byjohn adoyijun 2025 image source unsplash nigeria estimate million person disability pwd roughly population accord national commission person disability ncpwd represent market large african country entire population digital need rema\n",
            "\n",
            "--- TOPIC 6 ---\n",
            "\n",
            "man disability catalyst innovation papi sibomana photo credit patrick nzabonimpa deep readquick read patrick nzabonimpa 2014 papi sibomana travel india hope treatment repair vision lose year early arrive optimism hope dash tell impairment incurable instead treatment refer rehabilitation centre month\n",
            "telecom operators africa fail person disability august 2020 access deny introduction research design scope result availability accessible handset sale outlet promotion awareness accessible mobile telecommunication procurement policy accessible handset physical accessibility sale outlet capacity tele\n",
            "theme digital accessibility assistive technology africa level knowledge document day 29- 2023 opening remark irene mbari kirika founder executive director inable key takeaway disability long term phenomenon collaboration important change generation come access unity purpose change generation come wo\n",
            "\n",
            "--- TOPIC 10 ---\n",
            "\n",
            "unlock human potential innovate case study find fredrick ouko riziki source social enterprise kenya mission facilitate job accessibility individual disability service include provide disability mainstreame training raise awareness company organization additionally offer ongoing support entity recrui\n",
            "platform livelihood \b kenyan youth disability survey qualitative report inable technoprise global conduct partnership caribou digital mastercard foundation reflection exercise broad research study platform livelihood kenyan youth disability study turn multi country multi sector platform livelihood p\n",
            "\n",
            "--- TOPIC 2 ---\n",
            "\n",
            "innovate inclusion youth disability lead future entrepreneurship 1325 young entrepreneur disability transform landscape entrepreneurship inclusive innovation accessible technology team innovative entreprenuer microsoft designer world entrepreneur youth drive innovation economic growth young people d\n",
            "mon feb 2025 feature article ai assist african disabled business owner entrepreneur william jackson african teen young adult disabled walk mobility challenge wheelchair bind leverage apply ai tool help contribute technology career ai assist technologist entrepreneur world datum set social medium eng\n",
            "\n",
            "--- TOPIC 3 ---\n",
            "\n",
            "transform education begin inclusion  general child head school september un launch major summit accelerate progress education worldwide director inclusive education nafisa baboo share hope inclusive teaching learn finance finally education elevate rightful place political agenda transform education\n",
            "disability inability address disability divide africa smart technology 21st post blog series publish 2021 secretariat behalf au high level panel emerge technology apet calestous juma executive dialogue cjed african union au agenda 2063 aspire develop inclusive strategy socio- economic growth compreh\n",
            "\n",
            "--- TOPIC 6 ---\n",
            "\n",
            "man disability catalyst innovation papi sibomana photo credit patrick nzabonimpa deep readquick read patrick nzabonimpa 2014 papi sibomana travel india hope treatment repair vision lose year early arrive optimism hope dash tell impairment incurable instead treatment refer rehabilitation centre month\n",
            "telecom operators africa fail person disability august 2020 access deny introduction research design scope result availability accessible handset sale outlet promotion awareness accessible mobile telecommunication procurement policy accessible handset physical accessibility sale outlet capacity tele\n",
            "theme digital accessibility assistive technology africa level knowledge document day 29- 2023 opening remark irene mbari kirika founder executive director inable key takeaway disability long term phenomenon collaboration important change generation come access unity purpose change generation come wo\n",
            "\n",
            "--- TOPIC 9 ---\n",
            "\n",
            "usability test digital accessibility compliance testing key e commerce platform kenya inable technoprise global conduct partnership caribou digital mastercard foundation report broad research study platform livelihood kenyan youth disability study turn multi country multi sector platform livelihood \n",
            "international academic journal economics finance | volume issue pp 473 523 473 | p g e digital inclusion practice technology accessibility performance people disability tertiary education institution nairobi county nyamweya winnie kemuma degree master science information communication technology man\n",
            "2024 finaccess household survey access usage quality impact december 2024 e昀昀ort provide complete accurate information cbk knbs fsd kenya partner claim promise guarantee accuracy completeness adequacy content report expressly disclaim liability error omission content report central bank kenya collab\n",
            "\n",
            "--- TOPIC 1 ---\n",
            "\n",
            "size distribution digital connectivity gap sub saharan africa poverty p o v e r t y n d e q u t y equitable growth finance institution insight feraud tchuisser seuyong ani rudra silwal tania begazo david newhouse alain n'ghauran public disclosure authorize public disclosure authorize public disclosu\n",
            "vol.:(0123456789 discover global society 2025 3:54 | discover global society research bridge digital divide explore challenge solution digital exclusion rural south africa gardner mwansa1 matipa ricky ngandu1 zolisa mkwambi2 receive january 2025 accept 2025 © author(s 2025 open abstract digital excl\n",
            "assessment digital inclusion vulnerable person develop economy fredrick kanobe olusegun ademolu ajigini denis ssebuggwawo bartha alexandra nantogo emmanuel mukosi lerato moyane assessment digital inclusion vulnerable person develop economy november 2022 fredrick kanobe kyambogo university olusegun a\n",
            "\n",
            "--- TOPIC 1 ---\n",
            "\n",
            "size distribution digital connectivity gap sub saharan africa poverty p o v e r t y n d e q u t y equitable growth finance institution insight feraud tchuisser seuyong ani rudra silwal tania begazo david newhouse alain n'ghauran public disclosure authorize public disclosure authorize public disclosu\n",
            "vol.:(0123456789 discover global society 2025 3:54 | discover global society research bridge digital divide explore challenge solution digital exclusion rural south africa gardner mwansa1 matipa ricky ngandu1 zolisa mkwambi2 receive january 2025 accept 2025 © author(s 2025 open abstract digital excl\n",
            "assessment digital inclusion vulnerable person develop economy fredrick kanobe olusegun ademolu ajigini denis ssebuggwawo bartha alexandra nantogo emmanuel mukosi lerato moyane assessment digital inclusion vulnerable person develop economy november 2022 fredrick kanobe kyambogo university olusegun a\n",
            "\n",
            "--- TOPIC 1 ---\n",
            "\n",
            "size distribution digital connectivity gap sub saharan africa poverty p o v e r t y n d e q u t y equitable growth finance institution insight feraud tchuisser seuyong ani rudra silwal tania begazo david newhouse alain n'ghauran public disclosure authorize public disclosure authorize public disclosu\n",
            "vol.:(0123456789 discover global society 2025 3:54 | discover global society research bridge digital divide explore challenge solution digital exclusion rural south africa gardner mwansa1 matipa ricky ngandu1 zolisa mkwambi2 receive january 2025 accept 2025 © author(s 2025 open abstract digital excl\n",
            "assessment digital inclusion vulnerable person develop economy fredrick kanobe olusegun ademolu ajigini denis ssebuggwawo bartha alexandra nantogo emmanuel mukosi lerato moyane assessment digital inclusion vulnerable person develop economy november 2022 fredrick kanobe kyambogo university olusegun a\n",
            "\n",
            "--- TOPIC 7 ---\n",
            "\n",
            "strengthen ict accessibility pwd africa post nicodemus nyakundion september 2024 digital age transform communication education economic opportunity people disability pwds africa face challenge access digital revolution address issue cipesa cipe thomson reuters organize session title strengthen ict a\n",
            "foster digital inclusion nigeria person disability digital inclusion crucial factor ensure marginalize community mainly person disability pwd nigeria fully participate social economic educational sphere article explore significant barrier pwd face include physical economic social obstacle hinder acc\n",
            "\n",
            "--- TOPIC 1 ---\n",
            "\n",
            "size distribution digital connectivity gap sub saharan africa poverty p o v e r t y n d e q u t y equitable growth finance institution insight feraud tchuisser seuyong ani rudra silwal tania begazo david newhouse alain n'ghauran public disclosure authorize public disclosure authorize public disclosu\n",
            "vol.:(0123456789 discover global society 2025 3:54 | discover global society research bridge digital divide explore challenge solution digital exclusion rural south africa gardner mwansa1 matipa ricky ngandu1 zolisa mkwambi2 receive january 2025 accept 2025 © author(s 2025 open abstract digital excl\n",
            "assessment digital inclusion vulnerable person develop economy fredrick kanobe olusegun ademolu ajigini denis ssebuggwawo bartha alexandra nantogo emmanuel mukosi lerato moyane assessment digital inclusion vulnerable person develop economy november 2022 fredrick kanobe kyambogo university olusegun a\n",
            "\n",
            "--- TOPIC 10 ---\n",
            "\n",
            "unlock human potential innovate case study find fredrick ouko riziki source social enterprise kenya mission facilitate job accessibility individual disability service include provide disability mainstreame training raise awareness company organization additionally offer ongoing support entity recrui\n",
            "platform livelihood \b kenyan youth disability survey qualitative report inable technoprise global conduct partnership caribou digital mastercard foundation reflection exercise broad research study platform livelihood kenyan youth disability study turn multi country multi sector platform livelihood p\n",
            "\n",
            "--- TOPIC 1 ---\n",
            "\n",
            "size distribution digital connectivity gap sub saharan africa poverty p o v e r t y n d e q u t y equitable growth finance institution insight feraud tchuisser seuyong ani rudra silwal tania begazo david newhouse alain n'ghauran public disclosure authorize public disclosure authorize public disclosu\n",
            "vol.:(0123456789 discover global society 2025 3:54 | discover global society research bridge digital divide explore challenge solution digital exclusion rural south africa gardner mwansa1 matipa ricky ngandu1 zolisa mkwambi2 receive january 2025 accept 2025 © author(s 2025 open abstract digital excl\n",
            "assessment digital inclusion vulnerable person develop economy fredrick kanobe olusegun ademolu ajigini denis ssebuggwawo bartha alexandra nantogo emmanuel mukosi lerato moyane assessment digital inclusion vulnerable person develop economy november 2022 fredrick kanobe kyambogo university olusegun a\n",
            "\n",
            "--- TOPIC 4 ---\n",
            "\n",
            "term condition access use find assistive technology official journal resna issn print online journal homepage social protection access assistive technology low- middle income country alexandre cote cite article alexandre cote 2021 social protection access assistive technology low- middle income coun\n",
            "mobile disability gap report 2021 mobile disability gap report 2021 december 2021 copyright © 2021 gsm association gsma represent interest mobile operator worldwide unite 750 operator 400 company broad mobile ecosystem include handset device maker software company equipment provider internet company\n",
            "empower person disability digital innovation insight gsma innovation fund assistive tech copyright © 2023 gsma gsma global organisation unify mobile ecosystem discover develop deliver innovation foundational positive business environment societal change vision unlock power connectivity people indust\n",
            "\n",
            "--- TOPIC 6 ---\n",
            "\n",
            "man disability catalyst innovation papi sibomana photo credit patrick nzabonimpa deep readquick read patrick nzabonimpa 2014 papi sibomana travel india hope treatment repair vision lose year early arrive optimism hope dash tell impairment incurable instead treatment refer rehabilitation centre month\n",
            "telecom operators africa fail person disability august 2020 access deny introduction research design scope result availability accessible handset sale outlet promotion awareness accessible mobile telecommunication procurement policy accessible handset physical accessibility sale outlet capacity tele\n",
            "theme digital accessibility assistive technology africa level knowledge document day 29- 2023 opening remark irene mbari kirika founder executive director inable key takeaway disability long term phenomenon collaboration important change generation come access unity purpose change generation come wo\n",
            "\n",
            "--- TOPIC 8 ---\n",
            "\n",
            "ai assistive technology at person disability pwds africa report josephine kaaniru page report ai assistive technology ats person disability pwds africa page ai assistive technology at person disability pwds africa report introduction mapping ai assistive technology africa 2.1 ai assistive technology\n",
            "at2030 report june 2024 fund research lead report roundtable discussion explore challenge ai inclusive development africa author cathy holloway prof interaction design innovation uclic co founder academic director gdi hub co director cdli suggest citation cathy holloway 2024 report roundtable discus\n",
            "\n",
            "--- TOPIC 8 ---\n",
            "\n",
            "ai assistive technology at person disability pwds africa report josephine kaaniru page report ai assistive technology ats person disability pwds africa page ai assistive technology at person disability pwds africa report introduction mapping ai assistive technology africa 2.1 ai assistive technology\n",
            "at2030 report june 2024 fund research lead report roundtable discussion explore challenge ai inclusive development africa author cathy holloway prof interaction design innovation uclic co founder academic director gdi hub co director cdli suggest citation cathy holloway 2024 report roundtable discus\n",
            "\n",
            "--- TOPIC 9 ---\n",
            "\n",
            "usability test digital accessibility compliance testing key e commerce platform kenya inable technoprise global conduct partnership caribou digital mastercard foundation report broad research study platform livelihood kenyan youth disability study turn multi country multi sector platform livelihood \n",
            "international academic journal economics finance | volume issue pp 473 523 473 | p g e digital inclusion practice technology accessibility performance people disability tertiary education institution nairobi county nyamweya winnie kemuma degree master science information communication technology man\n",
            "2024 finaccess household survey access usage quality impact december 2024 e昀昀ort provide complete accurate information cbk knbs fsd kenya partner claim promise guarantee accuracy completeness adequacy content report expressly disclaim liability error omission content report central bank kenya collab\n",
            "\n",
            "--- TOPIC 3 ---\n",
            "\n",
            "transform education begin inclusion  general child head school september un launch major summit accelerate progress education worldwide director inclusive education nafisa baboo share hope inclusive teaching learn finance finally education elevate rightful place political agenda transform education\n",
            "disability inability address disability divide africa smart technology 21st post blog series publish 2021 secretariat behalf au high level panel emerge technology apet calestous juma executive dialogue cjed african union au agenda 2063 aspire develop inclusive strategy socio- economic growth compreh\n",
            "\n",
            "--- TOPIC 4 ---\n",
            "\n",
            "term condition access use find assistive technology official journal resna issn print online journal homepage social protection access assistive technology low- middle income country alexandre cote cite article alexandre cote 2021 social protection access assistive technology low- middle income coun\n",
            "mobile disability gap report 2021 mobile disability gap report 2021 december 2021 copyright © 2021 gsm association gsma represent interest mobile operator worldwide unite 750 operator 400 company broad mobile ecosystem include handset device maker software company equipment provider internet company\n",
            "empower person disability digital innovation insight gsma innovation fund assistive tech copyright © 2023 gsma gsma global organisation unify mobile ecosystem discover develop deliver innovation foundational positive business environment societal change vision unlock power connectivity people indust\n",
            "\n",
            "--- TOPIC 2 ---\n",
            "\n",
            "innovate inclusion youth disability lead future entrepreneurship 1325 young entrepreneur disability transform landscape entrepreneurship inclusive innovation accessible technology team innovative entreprenuer microsoft designer world entrepreneur youth drive innovation economic growth young people d\n",
            "mon feb 2025 feature article ai assist african disabled business owner entrepreneur william jackson african teen young adult disabled walk mobility challenge wheelchair bind leverage apply ai tool help contribute technology career ai assist technologist entrepreneur world datum set social medium eng\n",
            "\n",
            "--- TOPIC 9 ---\n",
            "\n",
            "usability test digital accessibility compliance testing key e commerce platform kenya inable technoprise global conduct partnership caribou digital mastercard foundation report broad research study platform livelihood kenyan youth disability study turn multi country multi sector platform livelihood \n",
            "international academic journal economics finance | volume issue pp 473 523 473 | p g e digital inclusion practice technology accessibility performance people disability tertiary education institution nairobi county nyamweya winnie kemuma degree master science information communication technology man\n",
            "2024 finaccess household survey access usage quality impact december 2024 e昀昀ort provide complete accurate information cbk knbs fsd kenya partner claim promise guarantee accuracy completeness adequacy content report expressly disclaim liability error omission content report central bank kenya collab\n",
            "\n",
            "--- TOPIC 5 ---\n",
            "\n",
            "empower vulnerable community mtn commitment inclusive technology o true measure society find treat vulnerable member mtn heart deliberate ensure customer experience inclusive culture touchpoint retail outlet service centre leave central transformative promise 2030 agenda sustainable development driv\n",
            "safaricom plc safaricom commit drive digital inclusion person disability business imperative moral responsibility align company vision africa lead purpose lead technology company 2030 strategic partnership inclusive design commitment equitable access safaricom embed disability inclusion operation sa\n",
            "advance inclusive datum sightsaver 2024 annual review march 2025 content introduction key progress area 2024 ongoing challenge lesson learn plan 2025 introduction end year report detail progress sightsaver inclusive datum internal work plan 2024 provide comprehensive overview inclusive datum initiat\n",
            "\n",
            "--- TOPIC 0 ---\n",
            "\n",
            "blind tech ceo return inspire student pacelli student lead digital skill training y'ello care year ago opeolu stephen akinola walk corridor pacelli school blind partially sight child surulere student big dream uncertain pathway wednesday june 2025 return student ceo mentor living proof differently a\n",
            "assistive tech screen reader audio describe software film inside opeoluwa akinola mission empower people disability bynathaniel bivanmay 2025 image source techcabal year old opeoluwa akinola begin lose sight diagnose retinitis pigmentosa rare genetic disorder gradually narrow field vision sight rema\n",
            "assistive tech leave million nigerian use technology afterthought byjohn adoyijun 2025 image source unsplash nigeria estimate million person disability pwd roughly population accord national commission person disability ncpwd represent market large african country entire population digital need rema\n",
            "\n",
            "--- TOPIC 5 ---\n",
            "\n",
            "empower vulnerable community mtn commitment inclusive technology o true measure society find treat vulnerable member mtn heart deliberate ensure customer experience inclusive culture touchpoint retail outlet service centre leave central transformative promise 2030 agenda sustainable development driv\n",
            "safaricom plc safaricom commit drive digital inclusion person disability business imperative moral responsibility align company vision africa lead purpose lead technology company 2030 strategic partnership inclusive design commitment equitable access safaricom embed disability inclusion operation sa\n",
            "advance inclusive datum sightsaver 2024 annual review march 2025 content introduction key progress area 2024 ongoing challenge lesson learn plan 2025 introduction end year report detail progress sightsaver inclusive datum internal work plan 2024 provide comprehensive overview inclusive datum initiat\n",
            "\n",
            "--- TOPIC 5 ---\n",
            "\n",
            "empower vulnerable community mtn commitment inclusive technology o true measure society find treat vulnerable member mtn heart deliberate ensure customer experience inclusive culture touchpoint retail outlet service centre leave central transformative promise 2030 agenda sustainable development driv\n",
            "safaricom plc safaricom commit drive digital inclusion person disability business imperative moral responsibility align company vision africa lead purpose lead technology company 2030 strategic partnership inclusive design commitment equitable access safaricom embed disability inclusion operation sa\n",
            "advance inclusive datum sightsaver 2024 annual review march 2025 content introduction key progress area 2024 ongoing challenge lesson learn plan 2025 introduction end year report detail progress sightsaver inclusive datum internal work plan 2024 provide comprehensive overview inclusive datum initiat\n"
          ]
        }
      ],
      "source": [
        "for topic_num in topics: # Iterate through all topic assignments\n",
        "    if topic_num != -1: # Skip outlier documents (topic -1)\n",
        "        print(f\"\\n--- TOPIC {topic_num} ---\\n\")\n",
        "        docs = topic_model.get_representative_docs(topic_num) # Get most representative documents for this topic\n",
        "        for doc in docs[:3]:  # First 3 sample docs\n",
        "            print(doc[:300])  # Preview first 300 chars"
      ]
    },
    {
      "cell_type": "markdown",
      "metadata": {
        "id": "o0ldn7mqTN0E"
      },
      "source": [
        "**Purpose:** By reading actual documents from each topic, the clustering's semantic coherence can be verified and each topic's true representation understood."
      ]
    },
    {
      "cell_type": "markdown",
      "metadata": {
        "id": "M3XDjDJgTQnI"
      },
      "source": [
        "# Visualization 1: Topic Frequency Bar Chart\n",
        "A bar chart showing topic distribution and top words is created:"
      ]
    },
    {
      "cell_type": "code",
      "execution_count": null,
      "metadata": {
        "colab": {
          "base_uri": "https://localhost:8080/",
          "height": 517
        },
        "id": "SalehbzArwqX",
        "outputId": "121c5c41-ab1b-4ffd-fe6b-36b55fcdfbf0"
      },
      "outputs": [
        {
          "data": {
            "text/html": [
              "<html>\n",
              "<head><meta charset=\"utf-8\" /></head>\n",
              "<body>\n",
              "    <div>            <script src=\"https://cdnjs.cloudflare.com/ajax/libs/mathjax/2.7.5/MathJax.js?config=TeX-AMS-MML_SVG\"></script><script type=\"text/javascript\">if (window.MathJax && window.MathJax.Hub && window.MathJax.Hub.Config) {window.MathJax.Hub.Config({SVG: {font: \"STIX-Web\"}});}</script>                <script type=\"text/javascript\">window.PlotlyConfig = {MathJaxConfig: 'local'};</script>\n",
              "        <script charset=\"utf-8\" src=\"https://cdn.plot.ly/plotly-2.35.2.min.js\"></script>                <div id=\"15a56fde-d80b-4240-8be3-2a020242250a\" class=\"plotly-graph-div\" style=\"height:500px; width:1000px;\"></div>            <script type=\"text/javascript\">                                    window.PLOTLYENV=window.PLOTLYENV || {};                                    if (document.getElementById(\"15a56fde-d80b-4240-8be3-2a020242250a\")) {                    Plotly.newPlot(                        \"15a56fde-d80b-4240-8be3-2a020242250a\",                        [{\"marker\":{\"color\":\"#D55E00\"},\"orientation\":\"h\",\"x\":[0.030342054564868992,0.03218270315441391,0.03345266710056215,0.03693155974932192,0.037036528001009865,0.04123687903442076,0.04327044116907509],\"y\":[\"text  \",\"button  \",\"app  \",\"mtn  \",\"accesstech  \",\"tech  \",\"centre  \"],\"type\":\"bar\",\"xaxis\":\"x\",\"yaxis\":\"y\"},{\"marker\":{\"color\":\"#0072B2\"},\"orientation\":\"h\",\"x\":[0.0188045736479442,0.019254013468193637,0.01950365179352501,0.024573389493263098,0.025022694454132143,0.025928272636073165,0.040888009664891097],\"y\":[\"exclusion  \",\"digital divide  \",\"ict  \",\"infrastructure  \",\"south  \",\"internet access  \",\"digital inclusion  \"],\"type\":\"bar\",\"xaxis\":\"x2\",\"yaxis\":\"y2\"},{\"marker\":{\"color\":\"#CC79A7\"},\"orientation\":\"h\",\"x\":[0.05597201172878892,0.05633643450477454,0.061246828817739546,0.0652084248641524,0.08404071201654165,0.09583902361725649,0.12968057071719874],\"y\":[\"remote  \",\"tech  \",\"ai tool  \",\"entrepreneurship  \",\"entrepreneur  \",\"young  \",\"ai  \"],\"type\":\"bar\",\"xaxis\":\"x3\",\"yaxis\":\"y3\"},{\"marker\":{\"color\":\"#E69F00\"},\"orientation\":\"h\",\"x\":[0.020068912361851203,0.02007137432432238,0.020446085765531346,0.023582296488860986,0.023651800298034868,0.025183094825186027,0.03831439652704885],\"y\":[\"2021  \",\"mobile gap  \",\"social protection  \",\"cent  \",\"cost  \",\"gsma  \",\"mobile internet  \"],\"type\":\"bar\",\"xaxis\":\"x4\",\"yaxis\":\"y4\"},{\"marker\":{\"color\":\"#56B4E9\"},\"orientation\":\"h\",\"x\":[0.04499856457102461,0.04920158453445847,0.056760423263160394,0.05781275136093849,0.07387925598628242,0.0974677095688409,0.1757386539671058],\"y\":[\"disaggregate  \",\"mtn  \",\"advance  \",\"plan  \",\"safaricom  \",\"sightsaver  \",\"inclusive datum  \"],\"type\":\"bar\",\"xaxis\":\"x5\",\"yaxis\":\"y5\"},{\"marker\":{\"color\":\"#009E73\"},\"orientation\":\"h\",\"x\":[0.01953816706981597,0.023121136347785207,0.023788539462675777,0.024479127491214257,0.024715574344118793,0.0254977070787771,0.039315791556766594],\"y\":[\"operator  \",\"safaricom  \",\"google  \",\"panel  \",\"outlet  \",\"director  \",\"telecom  \"],\"type\":\"bar\",\"xaxis\":\"x6\",\"yaxis\":\"y6\"},{\"marker\":{\"color\":\"#F0E442\"},\"orientation\":\"h\",\"x\":[0.0302741301431509,0.03136431208600252,0.0316686281054092,0.03514638312510686,0.03518533421533845,0.07734990124144428,0.10520985208438578],\"y\":[\"digital platform  \",\"legal framework  \",\"engagement  \",\"project enable  \",\"program  \",\"digital inclusion  \",\"pwd  \"],\"type\":\"bar\",\"xaxis\":\"x7\",\"yaxis\":\"y7\"},{\"marker\":{\"color\":\"#D55E00\"},\"orientation\":\"h\",\"x\":[0.021015284671601586,0.021677658366843357,0.02345001621825477,0.02513042601313945,0.029457308268833155,0.030860857937148035,0.03523790683098181],\"y\":[\"usage  \",\"usability  \",\"finaccess  \",\"household  \",\"figure  \",\"survey  \",\"nancial  \"],\"type\":\"bar\",\"xaxis\":\"x8\",\"yaxis\":\"y8\"}],                        {\"template\":{\"data\":{\"barpolar\":[{\"marker\":{\"line\":{\"color\":\"white\",\"width\":0.5},\"pattern\":{\"fillmode\":\"overlay\",\"size\":10,\"solidity\":0.2}},\"type\":\"barpolar\"}],\"bar\":[{\"error_x\":{\"color\":\"#2a3f5f\"},\"error_y\":{\"color\":\"#2a3f5f\"},\"marker\":{\"line\":{\"color\":\"white\",\"width\":0.5},\"pattern\":{\"fillmode\":\"overlay\",\"size\":10,\"solidity\":0.2}},\"type\":\"bar\"}],\"carpet\":[{\"aaxis\":{\"endlinecolor\":\"#2a3f5f\",\"gridcolor\":\"#C8D4E3\",\"linecolor\":\"#C8D4E3\",\"minorgridcolor\":\"#C8D4E3\",\"startlinecolor\":\"#2a3f5f\"},\"baxis\":{\"endlinecolor\":\"#2a3f5f\",\"gridcolor\":\"#C8D4E3\",\"linecolor\":\"#C8D4E3\",\"minorgridcolor\":\"#C8D4E3\",\"startlinecolor\":\"#2a3f5f\"},\"type\":\"carpet\"}],\"choropleth\":[{\"colorbar\":{\"outlinewidth\":0,\"ticks\":\"\"},\"type\":\"choropleth\"}],\"contourcarpet\":[{\"colorbar\":{\"outlinewidth\":0,\"ticks\":\"\"},\"type\":\"contourcarpet\"}],\"contour\":[{\"colorbar\":{\"outlinewidth\":0,\"ticks\":\"\"},\"colorscale\":[[0.0,\"#0d0887\"],[0.1111111111111111,\"#46039f\"],[0.2222222222222222,\"#7201a8\"],[0.3333333333333333,\"#9c179e\"],[0.4444444444444444,\"#bd3786\"],[0.5555555555555556,\"#d8576b\"],[0.6666666666666666,\"#ed7953\"],[0.7777777777777778,\"#fb9f3a\"],[0.8888888888888888,\"#fdca26\"],[1.0,\"#f0f921\"]],\"type\":\"contour\"}],\"heatmapgl\":[{\"colorbar\":{\"outlinewidth\":0,\"ticks\":\"\"},\"colorscale\":[[0.0,\"#0d0887\"],[0.1111111111111111,\"#46039f\"],[0.2222222222222222,\"#7201a8\"],[0.3333333333333333,\"#9c179e\"],[0.4444444444444444,\"#bd3786\"],[0.5555555555555556,\"#d8576b\"],[0.6666666666666666,\"#ed7953\"],[0.7777777777777778,\"#fb9f3a\"],[0.8888888888888888,\"#fdca26\"],[1.0,\"#f0f921\"]],\"type\":\"heatmapgl\"}],\"heatmap\":[{\"colorbar\":{\"outlinewidth\":0,\"ticks\":\"\"},\"colorscale\":[[0.0,\"#0d0887\"],[0.1111111111111111,\"#46039f\"],[0.2222222222222222,\"#7201a8\"],[0.3333333333333333,\"#9c179e\"],[0.4444444444444444,\"#bd3786\"],[0.5555555555555556,\"#d8576b\"],[0.6666666666666666,\"#ed7953\"],[0.7777777777777778,\"#fb9f3a\"],[0.8888888888888888,\"#fdca26\"],[1.0,\"#f0f921\"]],\"type\":\"heatmap\"}],\"histogram2dcontour\":[{\"colorbar\":{\"outlinewidth\":0,\"ticks\":\"\"},\"colorscale\":[[0.0,\"#0d0887\"],[0.1111111111111111,\"#46039f\"],[0.2222222222222222,\"#7201a8\"],[0.3333333333333333,\"#9c179e\"],[0.4444444444444444,\"#bd3786\"],[0.5555555555555556,\"#d8576b\"],[0.6666666666666666,\"#ed7953\"],[0.7777777777777778,\"#fb9f3a\"],[0.8888888888888888,\"#fdca26\"],[1.0,\"#f0f921\"]],\"type\":\"histogram2dcontour\"}],\"histogram2d\":[{\"colorbar\":{\"outlinewidth\":0,\"ticks\":\"\"},\"colorscale\":[[0.0,\"#0d0887\"],[0.1111111111111111,\"#46039f\"],[0.2222222222222222,\"#7201a8\"],[0.3333333333333333,\"#9c179e\"],[0.4444444444444444,\"#bd3786\"],[0.5555555555555556,\"#d8576b\"],[0.6666666666666666,\"#ed7953\"],[0.7777777777777778,\"#fb9f3a\"],[0.8888888888888888,\"#fdca26\"],[1.0,\"#f0f921\"]],\"type\":\"histogram2d\"}],\"histogram\":[{\"marker\":{\"pattern\":{\"fillmode\":\"overlay\",\"size\":10,\"solidity\":0.2}},\"type\":\"histogram\"}],\"mesh3d\":[{\"colorbar\":{\"outlinewidth\":0,\"ticks\":\"\"},\"type\":\"mesh3d\"}],\"parcoords\":[{\"line\":{\"colorbar\":{\"outlinewidth\":0,\"ticks\":\"\"}},\"type\":\"parcoords\"}],\"pie\":[{\"automargin\":true,\"type\":\"pie\"}],\"scatter3d\":[{\"line\":{\"colorbar\":{\"outlinewidth\":0,\"ticks\":\"\"}},\"marker\":{\"colorbar\":{\"outlinewidth\":0,\"ticks\":\"\"}},\"type\":\"scatter3d\"}],\"scattercarpet\":[{\"marker\":{\"colorbar\":{\"outlinewidth\":0,\"ticks\":\"\"}},\"type\":\"scattercarpet\"}],\"scattergeo\":[{\"marker\":{\"colorbar\":{\"outlinewidth\":0,\"ticks\":\"\"}},\"type\":\"scattergeo\"}],\"scattergl\":[{\"marker\":{\"colorbar\":{\"outlinewidth\":0,\"ticks\":\"\"}},\"type\":\"scattergl\"}],\"scattermapbox\":[{\"marker\":{\"colorbar\":{\"outlinewidth\":0,\"ticks\":\"\"}},\"type\":\"scattermapbox\"}],\"scatterpolargl\":[{\"marker\":{\"colorbar\":{\"outlinewidth\":0,\"ticks\":\"\"}},\"type\":\"scatterpolargl\"}],\"scatterpolar\":[{\"marker\":{\"colorbar\":{\"outlinewidth\":0,\"ticks\":\"\"}},\"type\":\"scatterpolar\"}],\"scatter\":[{\"fillpattern\":{\"fillmode\":\"overlay\",\"size\":10,\"solidity\":0.2},\"type\":\"scatter\"}],\"scatterternary\":[{\"marker\":{\"colorbar\":{\"outlinewidth\":0,\"ticks\":\"\"}},\"type\":\"scatterternary\"}],\"surface\":[{\"colorbar\":{\"outlinewidth\":0,\"ticks\":\"\"},\"colorscale\":[[0.0,\"#0d0887\"],[0.1111111111111111,\"#46039f\"],[0.2222222222222222,\"#7201a8\"],[0.3333333333333333,\"#9c179e\"],[0.4444444444444444,\"#bd3786\"],[0.5555555555555556,\"#d8576b\"],[0.6666666666666666,\"#ed7953\"],[0.7777777777777778,\"#fb9f3a\"],[0.8888888888888888,\"#fdca26\"],[1.0,\"#f0f921\"]],\"type\":\"surface\"}],\"table\":[{\"cells\":{\"fill\":{\"color\":\"#EBF0F8\"},\"line\":{\"color\":\"white\"}},\"header\":{\"fill\":{\"color\":\"#C8D4E3\"},\"line\":{\"color\":\"white\"}},\"type\":\"table\"}]},\"layout\":{\"annotationdefaults\":{\"arrowcolor\":\"#2a3f5f\",\"arrowhead\":0,\"arrowwidth\":1},\"autotypenumbers\":\"strict\",\"coloraxis\":{\"colorbar\":{\"outlinewidth\":0,\"ticks\":\"\"}},\"colorscale\":{\"diverging\":[[0,\"#8e0152\"],[0.1,\"#c51b7d\"],[0.2,\"#de77ae\"],[0.3,\"#f1b6da\"],[0.4,\"#fde0ef\"],[0.5,\"#f7f7f7\"],[0.6,\"#e6f5d0\"],[0.7,\"#b8e186\"],[0.8,\"#7fbc41\"],[0.9,\"#4d9221\"],[1,\"#276419\"]],\"sequential\":[[0.0,\"#0d0887\"],[0.1111111111111111,\"#46039f\"],[0.2222222222222222,\"#7201a8\"],[0.3333333333333333,\"#9c179e\"],[0.4444444444444444,\"#bd3786\"],[0.5555555555555556,\"#d8576b\"],[0.6666666666666666,\"#ed7953\"],[0.7777777777777778,\"#fb9f3a\"],[0.8888888888888888,\"#fdca26\"],[1.0,\"#f0f921\"]],\"sequentialminus\":[[0.0,\"#0d0887\"],[0.1111111111111111,\"#46039f\"],[0.2222222222222222,\"#7201a8\"],[0.3333333333333333,\"#9c179e\"],[0.4444444444444444,\"#bd3786\"],[0.5555555555555556,\"#d8576b\"],[0.6666666666666666,\"#ed7953\"],[0.7777777777777778,\"#fb9f3a\"],[0.8888888888888888,\"#fdca26\"],[1.0,\"#f0f921\"]]},\"colorway\":[\"#636efa\",\"#EF553B\",\"#00cc96\",\"#ab63fa\",\"#FFA15A\",\"#19d3f3\",\"#FF6692\",\"#B6E880\",\"#FF97FF\",\"#FECB52\"],\"font\":{\"color\":\"#2a3f5f\"},\"geo\":{\"bgcolor\":\"white\",\"lakecolor\":\"white\",\"landcolor\":\"white\",\"showlakes\":true,\"showland\":true,\"subunitcolor\":\"#C8D4E3\"},\"hoverlabel\":{\"align\":\"left\"},\"hovermode\":\"closest\",\"mapbox\":{\"style\":\"light\"},\"paper_bgcolor\":\"white\",\"plot_bgcolor\":\"white\",\"polar\":{\"angularaxis\":{\"gridcolor\":\"#EBF0F8\",\"linecolor\":\"#EBF0F8\",\"ticks\":\"\"},\"bgcolor\":\"white\",\"radialaxis\":{\"gridcolor\":\"#EBF0F8\",\"linecolor\":\"#EBF0F8\",\"ticks\":\"\"}},\"scene\":{\"xaxis\":{\"backgroundcolor\":\"white\",\"gridcolor\":\"#DFE8F3\",\"gridwidth\":2,\"linecolor\":\"#EBF0F8\",\"showbackground\":true,\"ticks\":\"\",\"zerolinecolor\":\"#EBF0F8\"},\"yaxis\":{\"backgroundcolor\":\"white\",\"gridcolor\":\"#DFE8F3\",\"gridwidth\":2,\"linecolor\":\"#EBF0F8\",\"showbackground\":true,\"ticks\":\"\",\"zerolinecolor\":\"#EBF0F8\"},\"zaxis\":{\"backgroundcolor\":\"white\",\"gridcolor\":\"#DFE8F3\",\"gridwidth\":2,\"linecolor\":\"#EBF0F8\",\"showbackground\":true,\"ticks\":\"\",\"zerolinecolor\":\"#EBF0F8\"}},\"shapedefaults\":{\"line\":{\"color\":\"#2a3f5f\"}},\"ternary\":{\"aaxis\":{\"gridcolor\":\"#DFE8F3\",\"linecolor\":\"#A2B1C6\",\"ticks\":\"\"},\"baxis\":{\"gridcolor\":\"#DFE8F3\",\"linecolor\":\"#A2B1C6\",\"ticks\":\"\"},\"bgcolor\":\"white\",\"caxis\":{\"gridcolor\":\"#DFE8F3\",\"linecolor\":\"#A2B1C6\",\"ticks\":\"\"}},\"title\":{\"x\":0.05},\"xaxis\":{\"automargin\":true,\"gridcolor\":\"#EBF0F8\",\"linecolor\":\"#EBF0F8\",\"ticks\":\"\",\"title\":{\"standoff\":15},\"zerolinecolor\":\"#EBF0F8\",\"zerolinewidth\":2},\"yaxis\":{\"automargin\":true,\"gridcolor\":\"#EBF0F8\",\"linecolor\":\"#EBF0F8\",\"ticks\":\"\",\"title\":{\"standoff\":15},\"zerolinecolor\":\"#EBF0F8\",\"zerolinewidth\":2}}},\"xaxis\":{\"anchor\":\"y\",\"domain\":[0.0,0.175],\"showgrid\":true},\"yaxis\":{\"anchor\":\"x\",\"domain\":[0.6000000000000001,1.0],\"showgrid\":true},\"xaxis2\":{\"anchor\":\"y2\",\"domain\":[0.275,0.45],\"showgrid\":true},\"yaxis2\":{\"anchor\":\"x2\",\"domain\":[0.6000000000000001,1.0],\"showgrid\":true},\"xaxis3\":{\"anchor\":\"y3\",\"domain\":[0.55,0.7250000000000001],\"showgrid\":true},\"yaxis3\":{\"anchor\":\"x3\",\"domain\":[0.6000000000000001,1.0],\"showgrid\":true},\"xaxis4\":{\"anchor\":\"y4\",\"domain\":[0.825,1.0],\"showgrid\":true},\"yaxis4\":{\"anchor\":\"x4\",\"domain\":[0.6000000000000001,1.0],\"showgrid\":true},\"xaxis5\":{\"anchor\":\"y5\",\"domain\":[0.0,0.175],\"showgrid\":true},\"yaxis5\":{\"anchor\":\"x5\",\"domain\":[0.0,0.4],\"showgrid\":true},\"xaxis6\":{\"anchor\":\"y6\",\"domain\":[0.275,0.45],\"showgrid\":true},\"yaxis6\":{\"anchor\":\"x6\",\"domain\":[0.0,0.4],\"showgrid\":true},\"xaxis7\":{\"anchor\":\"y7\",\"domain\":[0.55,0.7250000000000001],\"showgrid\":true},\"yaxis7\":{\"anchor\":\"x7\",\"domain\":[0.0,0.4],\"showgrid\":true},\"xaxis8\":{\"anchor\":\"y8\",\"domain\":[0.825,1.0],\"showgrid\":true},\"yaxis8\":{\"anchor\":\"x8\",\"domain\":[0.0,0.4],\"showgrid\":true},\"annotations\":[{\"font\":{\"size\":16},\"showarrow\":false,\"text\":\"Topic 0\",\"x\":0.0875,\"xanchor\":\"center\",\"xref\":\"paper\",\"y\":1.0,\"yanchor\":\"bottom\",\"yref\":\"paper\"},{\"font\":{\"size\":16},\"showarrow\":false,\"text\":\"Topic 1\",\"x\":0.36250000000000004,\"xanchor\":\"center\",\"xref\":\"paper\",\"y\":1.0,\"yanchor\":\"bottom\",\"yref\":\"paper\"},{\"font\":{\"size\":16},\"showarrow\":false,\"text\":\"Topic 2\",\"x\":0.6375000000000001,\"xanchor\":\"center\",\"xref\":\"paper\",\"y\":1.0,\"yanchor\":\"bottom\",\"yref\":\"paper\"},{\"font\":{\"size\":16},\"showarrow\":false,\"text\":\"Topic 4\",\"x\":0.9125,\"xanchor\":\"center\",\"xref\":\"paper\",\"y\":1.0,\"yanchor\":\"bottom\",\"yref\":\"paper\"},{\"font\":{\"size\":16},\"showarrow\":false,\"text\":\"Topic 5\",\"x\":0.0875,\"xanchor\":\"center\",\"xref\":\"paper\",\"y\":0.4,\"yanchor\":\"bottom\",\"yref\":\"paper\"},{\"font\":{\"size\":16},\"showarrow\":false,\"text\":\"Topic 6\",\"x\":0.36250000000000004,\"xanchor\":\"center\",\"xref\":\"paper\",\"y\":0.4,\"yanchor\":\"bottom\",\"yref\":\"paper\"},{\"font\":{\"size\":16},\"showarrow\":false,\"text\":\"Topic 7\",\"x\":0.6375000000000001,\"xanchor\":\"center\",\"xref\":\"paper\",\"y\":0.4,\"yanchor\":\"bottom\",\"yref\":\"paper\"},{\"font\":{\"size\":16},\"showarrow\":false,\"text\":\"Topic 9\",\"x\":0.9125,\"xanchor\":\"center\",\"xref\":\"paper\",\"y\":0.4,\"yanchor\":\"bottom\",\"yref\":\"paper\"}],\"title\":{\"font\":{\"size\":22,\"color\":\"Black\"},\"text\":\"Topic Word Scores\",\"x\":0.5,\"xanchor\":\"center\",\"yanchor\":\"top\"},\"hoverlabel\":{\"font\":{\"size\":16,\"family\":\"Rockwell\"},\"bgcolor\":\"white\"},\"showlegend\":false,\"width\":1000,\"height\":500},                        {\"responsive\": true}                    ).then(function(){\n",
              "                            \n",
              "var gd = document.getElementById('15a56fde-d80b-4240-8be3-2a020242250a');\n",
              "var x = new MutationObserver(function (mutations, observer) {{\n",
              "        var display = window.getComputedStyle(gd).display;\n",
              "        if (!display || display === 'none') {{\n",
              "            console.log([gd, 'removed!']);\n",
              "            Plotly.purge(gd);\n",
              "            observer.disconnect();\n",
              "        }}\n",
              "}});\n",
              "\n",
              "// Listen for the removal of the full notebook cells\n",
              "var notebookContainer = gd.closest('#notebook-container');\n",
              "if (notebookContainer) {{\n",
              "    x.observe(notebookContainer, {childList: true});\n",
              "}}\n",
              "\n",
              "// Listen for the clearing of the current output cell\n",
              "var outputEl = gd.closest('.output');\n",
              "if (outputEl) {{\n",
              "    x.observe(outputEl, {childList: true});\n",
              "}}\n",
              "\n",
              "                        })                };                            </script>        </div>\n",
              "</body>\n",
              "</html>"
            ]
          },
          "metadata": {},
          "output_type": "display_data"
        }
      ],
      "source": [
        "# To visualize topic frequency\n",
        "topic_model.visualize_barchart(n_words=7) # Show top 7 words for each topic with frequency scores"
      ]
    },
    {
      "cell_type": "markdown",
      "metadata": {
        "id": "NAFEtAuHTXI3"
      },
      "source": [
        "**Purpose:** This visualization shows the most important words for each topic and their relative importance scores, helping understand what characterizes each topic."
      ]
    },
    {
      "cell_type": "markdown",
      "metadata": {
        "id": "sk89ViAYTerM"
      },
      "source": [
        "# Visualization 2: Topic Similarity Heatmap\n",
        "A similarity matrix between all topics is generated:"
      ]
    },
    {
      "cell_type": "code",
      "execution_count": null,
      "metadata": {
        "colab": {
          "base_uri": "https://localhost:8080/",
          "height": 817
        },
        "id": "XP4W4Gu0vFLT",
        "outputId": "8c6632a7-7e7b-4ba6-d2b7-623316401f12"
      },
      "outputs": [
        {
          "data": {
            "text/html": [
              "<html>\n",
              "<head><meta charset=\"utf-8\" /></head>\n",
              "<body>\n",
              "    <div>            <script src=\"https://cdnjs.cloudflare.com/ajax/libs/mathjax/2.7.5/MathJax.js?config=TeX-AMS-MML_SVG\"></script><script type=\"text/javascript\">if (window.MathJax && window.MathJax.Hub && window.MathJax.Hub.Config) {window.MathJax.Hub.Config({SVG: {font: \"STIX-Web\"}});}</script>                <script type=\"text/javascript\">window.PlotlyConfig = {MathJaxConfig: 'local'};</script>\n",
              "        <script charset=\"utf-8\" src=\"https://cdn.plot.ly/plotly-2.35.2.min.js\"></script>                <div id=\"e96c5ee0-0471-426b-a9df-56f763152b33\" class=\"plotly-graph-div\" style=\"height:800px; width:800px;\"></div>            <script type=\"text/javascript\">                                    window.PLOTLYENV=window.PLOTLYENV || {};                                    if (document.getElementById(\"e96c5ee0-0471-426b-a9df-56f763152b33\")) {                    Plotly.newPlot(                        \"e96c5ee0-0471-426b-a9df-56f763152b33\",                        [{\"coloraxis\":\"coloraxis\",\"name\":\"0\",\"x\":[\"0_centre_tech_accesstech\",\"1_digital inclusion_interne...\",\"2_ai_young_entrepreneur\",\"3_quality_teacher_approxima...\",\"4_mobile internet_gsma_cost\",\"5_inclusive datum_sightsave...\",\"6_telecom_director_outlet\",\"7_pwd_digital inclusion_pro...\",\"8_ai_dataset_governance\",\"9_nancial_survey_figure\",\"10_digital platform_livelih...\"],\"y\":[\"0_centre_tech_accesstech\",\"1_digital inclusion_interne...\",\"2_ai_young_entrepreneur\",\"3_quality_teacher_approxima...\",\"4_mobile internet_gsma_cost\",\"5_inclusive datum_sightsave...\",\"6_telecom_director_outlet\",\"7_pwd_digital inclusion_pro...\",\"8_ai_dataset_governance\",\"9_nancial_survey_figure\",\"10_digital platform_livelih...\"],\"z\":[[1.0000000000000009,0.6379996835926323,0.7007394107304505,0.7049126123871077,0.7282748093969651,0.6727364018584343,0.7930565525567123,0.6796816722423171,0.6854200310576783,0.688787747934636,0.6098869106414607],[0.6379996835926323,1.0000000000000007,0.5589927886789059,0.601996353495382,0.6552423087353115,0.6153556417172225,0.6207762061036259,0.7134633119372844,0.5952404424834123,0.6321648945390583,0.5978323465622806],[0.7007394107304505,0.5589927886789059,1.0000000000000002,0.6909576362806511,0.5730800552669904,0.4871490858365528,0.6602828568945228,0.6090971527984035,0.8516627260044503,0.6265472438965896,0.6724726224438413],[0.7049126123871077,0.601996353495382,0.6909576362806511,1.0000000000000004,0.6338959789648543,0.5478258127022835,0.6882029550880053,0.6714034211902562,0.6705576462853775,0.7195659241680477,0.63969630663741],[0.7282748093969651,0.6552423087353115,0.5730800552669904,0.6338959789648543,0.9999999999999992,0.6002459450406804,0.6965940102567361,0.6200803091827273,0.5594501100174322,0.6391736524829565,0.6052207444343362],[0.6727364018584343,0.6153556417172225,0.4871490858365528,0.5478258127022835,0.6002459450406804,0.9999999999999996,0.6056658216909819,0.5889201438872828,0.5371259288531087,0.6117824459427692,0.49424856563312125],[0.7930565525567123,0.6207762061036259,0.6602828568945228,0.6882029550880053,0.6965940102567361,0.6056658216909819,1.0000000000000004,0.6840320655405159,0.6462066012396583,0.6868856400687167,0.5594721904071889],[0.6796816722423171,0.7134633119372844,0.6090971527984035,0.6714034211902562,0.6200803091827273,0.5889201438872828,0.6840320655405159,1.0000000000000004,0.6103257899353322,0.6482965702040564,0.623896478348537],[0.6854200310576783,0.5952404424834123,0.8516627260044503,0.6705576462853775,0.5594501100174322,0.5371259288531087,0.6462066012396583,0.6103257899353322,1.0000000000000002,0.6492228041804752,0.5938407473251806],[0.688787747934636,0.6321648945390583,0.6265472438965896,0.7195659241680477,0.6391736524829565,0.6117824459427692,0.6868856400687167,0.6482965702040564,0.6492228041804752,1.0,0.6816707616297097],[0.6098869106414607,0.5978323465622806,0.6724726224438413,0.63969630663741,0.6052207444343362,0.49424856563312125,0.5594721904071889,0.623896478348537,0.5938407473251806,0.6816707616297097,0.9999999999999998]],\"type\":\"heatmap\",\"xaxis\":\"x\",\"yaxis\":\"y\",\"hovertemplate\":\"x: %{x}\\u003cbr\\u003ey: %{y}\\u003cbr\\u003eSimilarity Score: %{z}\\u003cextra\\u003e\\u003c\\u002fextra\\u003e\"}],                        {\"template\":{\"data\":{\"histogram2dcontour\":[{\"type\":\"histogram2dcontour\",\"colorbar\":{\"outlinewidth\":0,\"ticks\":\"\"},\"colorscale\":[[0.0,\"#0d0887\"],[0.1111111111111111,\"#46039f\"],[0.2222222222222222,\"#7201a8\"],[0.3333333333333333,\"#9c179e\"],[0.4444444444444444,\"#bd3786\"],[0.5555555555555556,\"#d8576b\"],[0.6666666666666666,\"#ed7953\"],[0.7777777777777778,\"#fb9f3a\"],[0.8888888888888888,\"#fdca26\"],[1.0,\"#f0f921\"]]}],\"choropleth\":[{\"type\":\"choropleth\",\"colorbar\":{\"outlinewidth\":0,\"ticks\":\"\"}}],\"histogram2d\":[{\"type\":\"histogram2d\",\"colorbar\":{\"outlinewidth\":0,\"ticks\":\"\"},\"colorscale\":[[0.0,\"#0d0887\"],[0.1111111111111111,\"#46039f\"],[0.2222222222222222,\"#7201a8\"],[0.3333333333333333,\"#9c179e\"],[0.4444444444444444,\"#bd3786\"],[0.5555555555555556,\"#d8576b\"],[0.6666666666666666,\"#ed7953\"],[0.7777777777777778,\"#fb9f3a\"],[0.8888888888888888,\"#fdca26\"],[1.0,\"#f0f921\"]]}],\"heatmap\":[{\"type\":\"heatmap\",\"colorbar\":{\"outlinewidth\":0,\"ticks\":\"\"},\"colorscale\":[[0.0,\"#0d0887\"],[0.1111111111111111,\"#46039f\"],[0.2222222222222222,\"#7201a8\"],[0.3333333333333333,\"#9c179e\"],[0.4444444444444444,\"#bd3786\"],[0.5555555555555556,\"#d8576b\"],[0.6666666666666666,\"#ed7953\"],[0.7777777777777778,\"#fb9f3a\"],[0.8888888888888888,\"#fdca26\"],[1.0,\"#f0f921\"]]}],\"heatmapgl\":[{\"type\":\"heatmapgl\",\"colorbar\":{\"outlinewidth\":0,\"ticks\":\"\"},\"colorscale\":[[0.0,\"#0d0887\"],[0.1111111111111111,\"#46039f\"],[0.2222222222222222,\"#7201a8\"],[0.3333333333333333,\"#9c179e\"],[0.4444444444444444,\"#bd3786\"],[0.5555555555555556,\"#d8576b\"],[0.6666666666666666,\"#ed7953\"],[0.7777777777777778,\"#fb9f3a\"],[0.8888888888888888,\"#fdca26\"],[1.0,\"#f0f921\"]]}],\"contourcarpet\":[{\"type\":\"contourcarpet\",\"colorbar\":{\"outlinewidth\":0,\"ticks\":\"\"}}],\"contour\":[{\"type\":\"contour\",\"colorbar\":{\"outlinewidth\":0,\"ticks\":\"\"},\"colorscale\":[[0.0,\"#0d0887\"],[0.1111111111111111,\"#46039f\"],[0.2222222222222222,\"#7201a8\"],[0.3333333333333333,\"#9c179e\"],[0.4444444444444444,\"#bd3786\"],[0.5555555555555556,\"#d8576b\"],[0.6666666666666666,\"#ed7953\"],[0.7777777777777778,\"#fb9f3a\"],[0.8888888888888888,\"#fdca26\"],[1.0,\"#f0f921\"]]}],\"surface\":[{\"type\":\"surface\",\"colorbar\":{\"outlinewidth\":0,\"ticks\":\"\"},\"colorscale\":[[0.0,\"#0d0887\"],[0.1111111111111111,\"#46039f\"],[0.2222222222222222,\"#7201a8\"],[0.3333333333333333,\"#9c179e\"],[0.4444444444444444,\"#bd3786\"],[0.5555555555555556,\"#d8576b\"],[0.6666666666666666,\"#ed7953\"],[0.7777777777777778,\"#fb9f3a\"],[0.8888888888888888,\"#fdca26\"],[1.0,\"#f0f921\"]]}],\"mesh3d\":[{\"type\":\"mesh3d\",\"colorbar\":{\"outlinewidth\":0,\"ticks\":\"\"}}],\"scatter\":[{\"fillpattern\":{\"fillmode\":\"overlay\",\"size\":10,\"solidity\":0.2},\"type\":\"scatter\"}],\"parcoords\":[{\"type\":\"parcoords\",\"line\":{\"colorbar\":{\"outlinewidth\":0,\"ticks\":\"\"}}}],\"scatterpolargl\":[{\"type\":\"scatterpolargl\",\"marker\":{\"colorbar\":{\"outlinewidth\":0,\"ticks\":\"\"}}}],\"bar\":[{\"error_x\":{\"color\":\"#2a3f5f\"},\"error_y\":{\"color\":\"#2a3f5f\"},\"marker\":{\"line\":{\"color\":\"#E5ECF6\",\"width\":0.5},\"pattern\":{\"fillmode\":\"overlay\",\"size\":10,\"solidity\":0.2}},\"type\":\"bar\"}],\"scattergeo\":[{\"type\":\"scattergeo\",\"marker\":{\"colorbar\":{\"outlinewidth\":0,\"ticks\":\"\"}}}],\"scatterpolar\":[{\"type\":\"scatterpolar\",\"marker\":{\"colorbar\":{\"outlinewidth\":0,\"ticks\":\"\"}}}],\"histogram\":[{\"marker\":{\"pattern\":{\"fillmode\":\"overlay\",\"size\":10,\"solidity\":0.2}},\"type\":\"histogram\"}],\"scattergl\":[{\"type\":\"scattergl\",\"marker\":{\"colorbar\":{\"outlinewidth\":0,\"ticks\":\"\"}}}],\"scatter3d\":[{\"type\":\"scatter3d\",\"line\":{\"colorbar\":{\"outlinewidth\":0,\"ticks\":\"\"}},\"marker\":{\"colorbar\":{\"outlinewidth\":0,\"ticks\":\"\"}}}],\"scattermapbox\":[{\"type\":\"scattermapbox\",\"marker\":{\"colorbar\":{\"outlinewidth\":0,\"ticks\":\"\"}}}],\"scatterternary\":[{\"type\":\"scatterternary\",\"marker\":{\"colorbar\":{\"outlinewidth\":0,\"ticks\":\"\"}}}],\"scattercarpet\":[{\"type\":\"scattercarpet\",\"marker\":{\"colorbar\":{\"outlinewidth\":0,\"ticks\":\"\"}}}],\"carpet\":[{\"aaxis\":{\"endlinecolor\":\"#2a3f5f\",\"gridcolor\":\"white\",\"linecolor\":\"white\",\"minorgridcolor\":\"white\",\"startlinecolor\":\"#2a3f5f\"},\"baxis\":{\"endlinecolor\":\"#2a3f5f\",\"gridcolor\":\"white\",\"linecolor\":\"white\",\"minorgridcolor\":\"white\",\"startlinecolor\":\"#2a3f5f\"},\"type\":\"carpet\"}],\"table\":[{\"cells\":{\"fill\":{\"color\":\"#EBF0F8\"},\"line\":{\"color\":\"white\"}},\"header\":{\"fill\":{\"color\":\"#C8D4E3\"},\"line\":{\"color\":\"white\"}},\"type\":\"table\"}],\"barpolar\":[{\"marker\":{\"line\":{\"color\":\"#E5ECF6\",\"width\":0.5},\"pattern\":{\"fillmode\":\"overlay\",\"size\":10,\"solidity\":0.2}},\"type\":\"barpolar\"}],\"pie\":[{\"automargin\":true,\"type\":\"pie\"}]},\"layout\":{\"autotypenumbers\":\"strict\",\"colorway\":[\"#636efa\",\"#EF553B\",\"#00cc96\",\"#ab63fa\",\"#FFA15A\",\"#19d3f3\",\"#FF6692\",\"#B6E880\",\"#FF97FF\",\"#FECB52\"],\"font\":{\"color\":\"#2a3f5f\"},\"hovermode\":\"closest\",\"hoverlabel\":{\"align\":\"left\"},\"paper_bgcolor\":\"white\",\"plot_bgcolor\":\"#E5ECF6\",\"polar\":{\"bgcolor\":\"#E5ECF6\",\"angularaxis\":{\"gridcolor\":\"white\",\"linecolor\":\"white\",\"ticks\":\"\"},\"radialaxis\":{\"gridcolor\":\"white\",\"linecolor\":\"white\",\"ticks\":\"\"}},\"ternary\":{\"bgcolor\":\"#E5ECF6\",\"aaxis\":{\"gridcolor\":\"white\",\"linecolor\":\"white\",\"ticks\":\"\"},\"baxis\":{\"gridcolor\":\"white\",\"linecolor\":\"white\",\"ticks\":\"\"},\"caxis\":{\"gridcolor\":\"white\",\"linecolor\":\"white\",\"ticks\":\"\"}},\"coloraxis\":{\"colorbar\":{\"outlinewidth\":0,\"ticks\":\"\"}},\"colorscale\":{\"sequential\":[[0.0,\"#0d0887\"],[0.1111111111111111,\"#46039f\"],[0.2222222222222222,\"#7201a8\"],[0.3333333333333333,\"#9c179e\"],[0.4444444444444444,\"#bd3786\"],[0.5555555555555556,\"#d8576b\"],[0.6666666666666666,\"#ed7953\"],[0.7777777777777778,\"#fb9f3a\"],[0.8888888888888888,\"#fdca26\"],[1.0,\"#f0f921\"]],\"sequentialminus\":[[0.0,\"#0d0887\"],[0.1111111111111111,\"#46039f\"],[0.2222222222222222,\"#7201a8\"],[0.3333333333333333,\"#9c179e\"],[0.4444444444444444,\"#bd3786\"],[0.5555555555555556,\"#d8576b\"],[0.6666666666666666,\"#ed7953\"],[0.7777777777777778,\"#fb9f3a\"],[0.8888888888888888,\"#fdca26\"],[1.0,\"#f0f921\"]],\"diverging\":[[0,\"#8e0152\"],[0.1,\"#c51b7d\"],[0.2,\"#de77ae\"],[0.3,\"#f1b6da\"],[0.4,\"#fde0ef\"],[0.5,\"#f7f7f7\"],[0.6,\"#e6f5d0\"],[0.7,\"#b8e186\"],[0.8,\"#7fbc41\"],[0.9,\"#4d9221\"],[1,\"#276419\"]]},\"xaxis\":{\"gridcolor\":\"white\",\"linecolor\":\"white\",\"ticks\":\"\",\"title\":{\"standoff\":15},\"zerolinecolor\":\"white\",\"automargin\":true,\"zerolinewidth\":2},\"yaxis\":{\"gridcolor\":\"white\",\"linecolor\":\"white\",\"ticks\":\"\",\"title\":{\"standoff\":15},\"zerolinecolor\":\"white\",\"automargin\":true,\"zerolinewidth\":2},\"scene\":{\"xaxis\":{\"backgroundcolor\":\"#E5ECF6\",\"gridcolor\":\"white\",\"linecolor\":\"white\",\"showbackground\":true,\"ticks\":\"\",\"zerolinecolor\":\"white\",\"gridwidth\":2},\"yaxis\":{\"backgroundcolor\":\"#E5ECF6\",\"gridcolor\":\"white\",\"linecolor\":\"white\",\"showbackground\":true,\"ticks\":\"\",\"zerolinecolor\":\"white\",\"gridwidth\":2},\"zaxis\":{\"backgroundcolor\":\"#E5ECF6\",\"gridcolor\":\"white\",\"linecolor\":\"white\",\"showbackground\":true,\"ticks\":\"\",\"zerolinecolor\":\"white\",\"gridwidth\":2}},\"shapedefaults\":{\"line\":{\"color\":\"#2a3f5f\"}},\"annotationdefaults\":{\"arrowcolor\":\"#2a3f5f\",\"arrowhead\":0,\"arrowwidth\":1},\"geo\":{\"bgcolor\":\"white\",\"landcolor\":\"#E5ECF6\",\"subunitcolor\":\"white\",\"showland\":true,\"showlakes\":true,\"lakecolor\":\"white\"},\"title\":{\"x\":0.05},\"mapbox\":{\"style\":\"light\"}}},\"xaxis\":{\"anchor\":\"y\",\"domain\":[0.0,1.0],\"scaleanchor\":\"y\",\"constrain\":\"domain\"},\"yaxis\":{\"anchor\":\"x\",\"domain\":[0.0,1.0],\"autorange\":\"reversed\",\"constrain\":\"domain\"},\"coloraxis\":{\"colorbar\":{\"title\":{\"text\":\"Similarity Score\"}},\"colorscale\":[[0.0,\"rgb(247,252,240)\"],[0.125,\"rgb(224,243,219)\"],[0.25,\"rgb(204,235,197)\"],[0.375,\"rgb(168,221,181)\"],[0.5,\"rgb(123,204,196)\"],[0.625,\"rgb(78,179,211)\"],[0.75,\"rgb(43,140,190)\"],[0.875,\"rgb(8,104,172)\"],[1.0,\"rgb(8,64,129)\"]]},\"margin\":{\"t\":60},\"title\":{\"font\":{\"size\":22,\"color\":\"Black\"},\"text\":\"\\u003cb\\u003eSimilarity Matrix\\u003c\\u002fb\\u003e\",\"y\":0.95,\"x\":0.55,\"xanchor\":\"center\",\"yanchor\":\"top\"},\"hoverlabel\":{\"font\":{\"size\":16,\"family\":\"Rockwell\"},\"bgcolor\":\"white\"},\"width\":800,\"height\":800,\"showlegend\":true,\"legend\":{\"title\":{\"text\":\"Trend\"}}},                        {\"responsive\": true}                    ).then(function(){\n",
              "                            \n",
              "var gd = document.getElementById('e96c5ee0-0471-426b-a9df-56f763152b33');\n",
              "var x = new MutationObserver(function (mutations, observer) {{\n",
              "        var display = window.getComputedStyle(gd).display;\n",
              "        if (!display || display === 'none') {{\n",
              "            console.log([gd, 'removed!']);\n",
              "            Plotly.purge(gd);\n",
              "            observer.disconnect();\n",
              "        }}\n",
              "}});\n",
              "\n",
              "// Listen for the removal of the full notebook cells\n",
              "var notebookContainer = gd.closest('#notebook-container');\n",
              "if (notebookContainer) {{\n",
              "    x.observe(notebookContainer, {childList: true});\n",
              "}}\n",
              "\n",
              "// Listen for the clearing of the current output cell\n",
              "var outputEl = gd.closest('.output');\n",
              "if (outputEl) {{\n",
              "    x.observe(outputEl, {childList: true});\n",
              "}}\n",
              "\n",
              "                        })                };                            </script>        </div>\n",
              "</body>\n",
              "</html>"
            ]
          },
          "metadata": {},
          "output_type": "display_data"
        }
      ],
      "source": [
        "topic_model.visualize_heatmap() # Create similarity matrix showing relationships between topics"
      ]
    },
    {
      "cell_type": "markdown",
      "metadata": {
        "id": "7fG3AgZ0TlBb"
      },
      "source": [
        "**Purpose:** This heatmap shows how similar each topic is to every other topic. Darker colors indicate higher similarity, helping identify potentially redundant topics or topic clusters."
      ]
    },
    {
      "cell_type": "markdown",
      "metadata": {
        "id": "I3FwPUh0ToZp"
      },
      "source": [
        "# Visualization 3: 2D Topic Space\n",
        "A 2D representation of topic relationships is created:"
      ]
    },
    {
      "cell_type": "code",
      "execution_count": null,
      "metadata": {
        "colab": {
          "base_uri": "https://localhost:8080/",
          "height": 667
        },
        "id": "EUifl6S6vfLH",
        "outputId": "e771ae26-ec6d-42dc-bdae-8fbdf6975f02"
      },
      "outputs": [
        {
          "data": {
            "text/html": [
              "<html>\n",
              "<head><meta charset=\"utf-8\" /></head>\n",
              "<body>\n",
              "    <div>            <script src=\"https://cdnjs.cloudflare.com/ajax/libs/mathjax/2.7.5/MathJax.js?config=TeX-AMS-MML_SVG\"></script><script type=\"text/javascript\">if (window.MathJax && window.MathJax.Hub && window.MathJax.Hub.Config) {window.MathJax.Hub.Config({SVG: {font: \"STIX-Web\"}});}</script>                <script type=\"text/javascript\">window.PlotlyConfig = {MathJaxConfig: 'local'};</script>\n",
              "        <script charset=\"utf-8\" src=\"https://cdn.plot.ly/plotly-2.35.2.min.js\"></script>                <div id=\"b285eccc-f47e-4138-bc94-53a45c7f867c\" class=\"plotly-graph-div\" style=\"height:650px; width:650px;\"></div>            <script type=\"text/javascript\">                                    window.PLOTLYENV=window.PLOTLYENV || {};                                    if (document.getElementById(\"b285eccc-f47e-4138-bc94-53a45c7f867c\")) {                    Plotly.newPlot(                        \"b285eccc-f47e-4138-bc94-53a45c7f867c\",                        [{\"customdata\":[[0,\"centre | tech | accesstech | mtn | app\",3],[1,\"digital inclusion | internet access | south | infrastructure | ict\",6],[2,\"ai | young | entrepreneur | entrepreneurship | ai tool\",2],[3,\"quality | teacher | approximately | attend | emerge technology\",2],[4,\"mobile internet | gsma | cost | cent | social protection\",5],[5,\"inclusive datum | sightsaver | safaricom | plan | advance\",3],[6,\"telecom | director | outlet | panel | google\",4],[7,\"pwd | digital inclusion | program | project enable | engagement\",2],[8,\"ai | dataset | governance | ibid | funding\",2],[9,\"nancial | survey | figure | household | finaccess\",3],[10,\"digital platform | livelihood | young | platform livelihood | impairment\",2]],\"hovertemplate\":\"\\u003cb\\u003eTopic %{customdata[0]}\\u003c\\u002fb\\u003e\\u003cbr\\u003e%{customdata[1]}\\u003cbr\\u003eSize: %{customdata[2]}\",\"legendgroup\":\"\",\"marker\":{\"color\":\"#B0BEC5\",\"size\":[3,6,2,2,5,3,4,2,2,3,2],\"sizemode\":\"area\",\"sizeref\":0.00375,\"symbol\":\"circle\",\"line\":{\"color\":\"DarkSlateGrey\",\"width\":2}},\"mode\":\"markers\",\"name\":\"\",\"orientation\":\"v\",\"showlegend\":false,\"x\":[6.1308336,8.835465,-14.187608,19.299358,5.8159447,6.487081,5.656509,8.595386,-14.0114355,19.579414,19.837608],\"xaxis\":\"x\",\"y\":[13.096018,7.825171,28.40612,2.327257,13.400927,12.90823,12.705546,8.065217,28.229937,2.6033587,2.864757],\"yaxis\":\"y\",\"type\":\"scatter\"}],                        {\"template\":{\"data\":{\"barpolar\":[{\"marker\":{\"line\":{\"color\":\"white\",\"width\":0.5},\"pattern\":{\"fillmode\":\"overlay\",\"size\":10,\"solidity\":0.2}},\"type\":\"barpolar\"}],\"bar\":[{\"error_x\":{\"color\":\"rgb(36,36,36)\"},\"error_y\":{\"color\":\"rgb(36,36,36)\"},\"marker\":{\"line\":{\"color\":\"white\",\"width\":0.5},\"pattern\":{\"fillmode\":\"overlay\",\"size\":10,\"solidity\":0.2}},\"type\":\"bar\"}],\"carpet\":[{\"aaxis\":{\"endlinecolor\":\"rgb(36,36,36)\",\"gridcolor\":\"white\",\"linecolor\":\"white\",\"minorgridcolor\":\"white\",\"startlinecolor\":\"rgb(36,36,36)\"},\"baxis\":{\"endlinecolor\":\"rgb(36,36,36)\",\"gridcolor\":\"white\",\"linecolor\":\"white\",\"minorgridcolor\":\"white\",\"startlinecolor\":\"rgb(36,36,36)\"},\"type\":\"carpet\"}],\"choropleth\":[{\"colorbar\":{\"outlinewidth\":1,\"tickcolor\":\"rgb(36,36,36)\",\"ticks\":\"outside\"},\"type\":\"choropleth\"}],\"contourcarpet\":[{\"colorbar\":{\"outlinewidth\":1,\"tickcolor\":\"rgb(36,36,36)\",\"ticks\":\"outside\"},\"type\":\"contourcarpet\"}],\"contour\":[{\"colorbar\":{\"outlinewidth\":1,\"tickcolor\":\"rgb(36,36,36)\",\"ticks\":\"outside\"},\"colorscale\":[[0.0,\"#440154\"],[0.1111111111111111,\"#482878\"],[0.2222222222222222,\"#3e4989\"],[0.3333333333333333,\"#31688e\"],[0.4444444444444444,\"#26828e\"],[0.5555555555555556,\"#1f9e89\"],[0.6666666666666666,\"#35b779\"],[0.7777777777777778,\"#6ece58\"],[0.8888888888888888,\"#b5de2b\"],[1.0,\"#fde725\"]],\"type\":\"contour\"}],\"heatmapgl\":[{\"colorbar\":{\"outlinewidth\":1,\"tickcolor\":\"rgb(36,36,36)\",\"ticks\":\"outside\"},\"colorscale\":[[0.0,\"#440154\"],[0.1111111111111111,\"#482878\"],[0.2222222222222222,\"#3e4989\"],[0.3333333333333333,\"#31688e\"],[0.4444444444444444,\"#26828e\"],[0.5555555555555556,\"#1f9e89\"],[0.6666666666666666,\"#35b779\"],[0.7777777777777778,\"#6ece58\"],[0.8888888888888888,\"#b5de2b\"],[1.0,\"#fde725\"]],\"type\":\"heatmapgl\"}],\"heatmap\":[{\"colorbar\":{\"outlinewidth\":1,\"tickcolor\":\"rgb(36,36,36)\",\"ticks\":\"outside\"},\"colorscale\":[[0.0,\"#440154\"],[0.1111111111111111,\"#482878\"],[0.2222222222222222,\"#3e4989\"],[0.3333333333333333,\"#31688e\"],[0.4444444444444444,\"#26828e\"],[0.5555555555555556,\"#1f9e89\"],[0.6666666666666666,\"#35b779\"],[0.7777777777777778,\"#6ece58\"],[0.8888888888888888,\"#b5de2b\"],[1.0,\"#fde725\"]],\"type\":\"heatmap\"}],\"histogram2dcontour\":[{\"colorbar\":{\"outlinewidth\":1,\"tickcolor\":\"rgb(36,36,36)\",\"ticks\":\"outside\"},\"colorscale\":[[0.0,\"#440154\"],[0.1111111111111111,\"#482878\"],[0.2222222222222222,\"#3e4989\"],[0.3333333333333333,\"#31688e\"],[0.4444444444444444,\"#26828e\"],[0.5555555555555556,\"#1f9e89\"],[0.6666666666666666,\"#35b779\"],[0.7777777777777778,\"#6ece58\"],[0.8888888888888888,\"#b5de2b\"],[1.0,\"#fde725\"]],\"type\":\"histogram2dcontour\"}],\"histogram2d\":[{\"colorbar\":{\"outlinewidth\":1,\"tickcolor\":\"rgb(36,36,36)\",\"ticks\":\"outside\"},\"colorscale\":[[0.0,\"#440154\"],[0.1111111111111111,\"#482878\"],[0.2222222222222222,\"#3e4989\"],[0.3333333333333333,\"#31688e\"],[0.4444444444444444,\"#26828e\"],[0.5555555555555556,\"#1f9e89\"],[0.6666666666666666,\"#35b779\"],[0.7777777777777778,\"#6ece58\"],[0.8888888888888888,\"#b5de2b\"],[1.0,\"#fde725\"]],\"type\":\"histogram2d\"}],\"histogram\":[{\"marker\":{\"line\":{\"color\":\"white\",\"width\":0.6}},\"type\":\"histogram\"}],\"mesh3d\":[{\"colorbar\":{\"outlinewidth\":1,\"tickcolor\":\"rgb(36,36,36)\",\"ticks\":\"outside\"},\"type\":\"mesh3d\"}],\"parcoords\":[{\"line\":{\"colorbar\":{\"outlinewidth\":1,\"tickcolor\":\"rgb(36,36,36)\",\"ticks\":\"outside\"}},\"type\":\"parcoords\"}],\"pie\":[{\"automargin\":true,\"type\":\"pie\"}],\"scatter3d\":[{\"line\":{\"colorbar\":{\"outlinewidth\":1,\"tickcolor\":\"rgb(36,36,36)\",\"ticks\":\"outside\"}},\"marker\":{\"colorbar\":{\"outlinewidth\":1,\"tickcolor\":\"rgb(36,36,36)\",\"ticks\":\"outside\"}},\"type\":\"scatter3d\"}],\"scattercarpet\":[{\"marker\":{\"colorbar\":{\"outlinewidth\":1,\"tickcolor\":\"rgb(36,36,36)\",\"ticks\":\"outside\"}},\"type\":\"scattercarpet\"}],\"scattergeo\":[{\"marker\":{\"colorbar\":{\"outlinewidth\":1,\"tickcolor\":\"rgb(36,36,36)\",\"ticks\":\"outside\"}},\"type\":\"scattergeo\"}],\"scattergl\":[{\"marker\":{\"colorbar\":{\"outlinewidth\":1,\"tickcolor\":\"rgb(36,36,36)\",\"ticks\":\"outside\"}},\"type\":\"scattergl\"}],\"scattermapbox\":[{\"marker\":{\"colorbar\":{\"outlinewidth\":1,\"tickcolor\":\"rgb(36,36,36)\",\"ticks\":\"outside\"}},\"type\":\"scattermapbox\"}],\"scatterpolargl\":[{\"marker\":{\"colorbar\":{\"outlinewidth\":1,\"tickcolor\":\"rgb(36,36,36)\",\"ticks\":\"outside\"}},\"type\":\"scatterpolargl\"}],\"scatterpolar\":[{\"marker\":{\"colorbar\":{\"outlinewidth\":1,\"tickcolor\":\"rgb(36,36,36)\",\"ticks\":\"outside\"}},\"type\":\"scatterpolar\"}],\"scatter\":[{\"fillpattern\":{\"fillmode\":\"overlay\",\"size\":10,\"solidity\":0.2},\"type\":\"scatter\"}],\"scatterternary\":[{\"marker\":{\"colorbar\":{\"outlinewidth\":1,\"tickcolor\":\"rgb(36,36,36)\",\"ticks\":\"outside\"}},\"type\":\"scatterternary\"}],\"surface\":[{\"colorbar\":{\"outlinewidth\":1,\"tickcolor\":\"rgb(36,36,36)\",\"ticks\":\"outside\"},\"colorscale\":[[0.0,\"#440154\"],[0.1111111111111111,\"#482878\"],[0.2222222222222222,\"#3e4989\"],[0.3333333333333333,\"#31688e\"],[0.4444444444444444,\"#26828e\"],[0.5555555555555556,\"#1f9e89\"],[0.6666666666666666,\"#35b779\"],[0.7777777777777778,\"#6ece58\"],[0.8888888888888888,\"#b5de2b\"],[1.0,\"#fde725\"]],\"type\":\"surface\"}],\"table\":[{\"cells\":{\"fill\":{\"color\":\"rgb(237,237,237)\"},\"line\":{\"color\":\"white\"}},\"header\":{\"fill\":{\"color\":\"rgb(217,217,217)\"},\"line\":{\"color\":\"white\"}},\"type\":\"table\"}]},\"layout\":{\"annotationdefaults\":{\"arrowhead\":0,\"arrowwidth\":1},\"autotypenumbers\":\"strict\",\"coloraxis\":{\"colorbar\":{\"outlinewidth\":1,\"tickcolor\":\"rgb(36,36,36)\",\"ticks\":\"outside\"}},\"colorscale\":{\"diverging\":[[0.0,\"rgb(103,0,31)\"],[0.1,\"rgb(178,24,43)\"],[0.2,\"rgb(214,96,77)\"],[0.3,\"rgb(244,165,130)\"],[0.4,\"rgb(253,219,199)\"],[0.5,\"rgb(247,247,247)\"],[0.6,\"rgb(209,229,240)\"],[0.7,\"rgb(146,197,222)\"],[0.8,\"rgb(67,147,195)\"],[0.9,\"rgb(33,102,172)\"],[1.0,\"rgb(5,48,97)\"]],\"sequential\":[[0.0,\"#440154\"],[0.1111111111111111,\"#482878\"],[0.2222222222222222,\"#3e4989\"],[0.3333333333333333,\"#31688e\"],[0.4444444444444444,\"#26828e\"],[0.5555555555555556,\"#1f9e89\"],[0.6666666666666666,\"#35b779\"],[0.7777777777777778,\"#6ece58\"],[0.8888888888888888,\"#b5de2b\"],[1.0,\"#fde725\"]],\"sequentialminus\":[[0.0,\"#440154\"],[0.1111111111111111,\"#482878\"],[0.2222222222222222,\"#3e4989\"],[0.3333333333333333,\"#31688e\"],[0.4444444444444444,\"#26828e\"],[0.5555555555555556,\"#1f9e89\"],[0.6666666666666666,\"#35b779\"],[0.7777777777777778,\"#6ece58\"],[0.8888888888888888,\"#b5de2b\"],[1.0,\"#fde725\"]]},\"colorway\":[\"#1F77B4\",\"#FF7F0E\",\"#2CA02C\",\"#D62728\",\"#9467BD\",\"#8C564B\",\"#E377C2\",\"#7F7F7F\",\"#BCBD22\",\"#17BECF\"],\"font\":{\"color\":\"rgb(36,36,36)\"},\"geo\":{\"bgcolor\":\"white\",\"lakecolor\":\"white\",\"landcolor\":\"white\",\"showlakes\":true,\"showland\":true,\"subunitcolor\":\"white\"},\"hoverlabel\":{\"align\":\"left\"},\"hovermode\":\"closest\",\"mapbox\":{\"style\":\"light\"},\"paper_bgcolor\":\"white\",\"plot_bgcolor\":\"white\",\"polar\":{\"angularaxis\":{\"gridcolor\":\"rgb(232,232,232)\",\"linecolor\":\"rgb(36,36,36)\",\"showgrid\":false,\"showline\":true,\"ticks\":\"outside\"},\"bgcolor\":\"white\",\"radialaxis\":{\"gridcolor\":\"rgb(232,232,232)\",\"linecolor\":\"rgb(36,36,36)\",\"showgrid\":false,\"showline\":true,\"ticks\":\"outside\"}},\"scene\":{\"xaxis\":{\"backgroundcolor\":\"white\",\"gridcolor\":\"rgb(232,232,232)\",\"gridwidth\":2,\"linecolor\":\"rgb(36,36,36)\",\"showbackground\":true,\"showgrid\":false,\"showline\":true,\"ticks\":\"outside\",\"zeroline\":false,\"zerolinecolor\":\"rgb(36,36,36)\"},\"yaxis\":{\"backgroundcolor\":\"white\",\"gridcolor\":\"rgb(232,232,232)\",\"gridwidth\":2,\"linecolor\":\"rgb(36,36,36)\",\"showbackground\":true,\"showgrid\":false,\"showline\":true,\"ticks\":\"outside\",\"zeroline\":false,\"zerolinecolor\":\"rgb(36,36,36)\"},\"zaxis\":{\"backgroundcolor\":\"white\",\"gridcolor\":\"rgb(232,232,232)\",\"gridwidth\":2,\"linecolor\":\"rgb(36,36,36)\",\"showbackground\":true,\"showgrid\":false,\"showline\":true,\"ticks\":\"outside\",\"zeroline\":false,\"zerolinecolor\":\"rgb(36,36,36)\"}},\"shapedefaults\":{\"fillcolor\":\"black\",\"line\":{\"width\":0},\"opacity\":0.3},\"ternary\":{\"aaxis\":{\"gridcolor\":\"rgb(232,232,232)\",\"linecolor\":\"rgb(36,36,36)\",\"showgrid\":false,\"showline\":true,\"ticks\":\"outside\"},\"baxis\":{\"gridcolor\":\"rgb(232,232,232)\",\"linecolor\":\"rgb(36,36,36)\",\"showgrid\":false,\"showline\":true,\"ticks\":\"outside\"},\"bgcolor\":\"white\",\"caxis\":{\"gridcolor\":\"rgb(232,232,232)\",\"linecolor\":\"rgb(36,36,36)\",\"showgrid\":false,\"showline\":true,\"ticks\":\"outside\"}},\"title\":{\"x\":0.05},\"xaxis\":{\"automargin\":true,\"gridcolor\":\"rgb(232,232,232)\",\"linecolor\":\"rgb(36,36,36)\",\"showgrid\":false,\"showline\":true,\"ticks\":\"outside\",\"title\":{\"standoff\":15},\"zeroline\":false,\"zerolinecolor\":\"rgb(36,36,36)\"},\"yaxis\":{\"automargin\":true,\"gridcolor\":\"rgb(232,232,232)\",\"linecolor\":\"rgb(36,36,36)\",\"showgrid\":false,\"showline\":true,\"ticks\":\"outside\",\"title\":{\"standoff\":15},\"zeroline\":false,\"zerolinecolor\":\"rgb(36,36,36)\"}}},\"xaxis\":{\"anchor\":\"y\",\"domain\":[0.0,1.0],\"title\":{\"text\":\"\"},\"visible\":false,\"range\":[-16.315748929977417,22.813249588012695]},\"yaxis\":{\"anchor\":\"x\",\"domain\":[0.0,1.0],\"title\":{\"text\":\"\"},\"visible\":false,\"range\":[1.9781683802604675,32.66703834533691]},\"legend\":{\"tracegroupgap\":0,\"itemsizing\":\"constant\"},\"margin\":{\"t\":60},\"title\":{\"font\":{\"size\":22,\"color\":\"Black\"},\"text\":\"\\u003cb\\u003eIntertopic Distance Map\\u003c\\u002fb\\u003e\",\"y\":0.95,\"x\":0.5,\"xanchor\":\"center\",\"yanchor\":\"top\"},\"hoverlabel\":{\"font\":{\"size\":16,\"family\":\"Rockwell\"},\"bgcolor\":\"white\"},\"width\":650,\"height\":650,\"sliders\":[{\"active\":0,\"pad\":{\"t\":50},\"steps\":[{\"args\":[{\"marker.color\":[[\"red\",\"#B0BEC5\",\"#B0BEC5\",\"#B0BEC5\",\"#B0BEC5\",\"#B0BEC5\",\"#B0BEC5\",\"#B0BEC5\",\"#B0BEC5\",\"#B0BEC5\",\"#B0BEC5\"]]}],\"label\":\"Topic 0\",\"method\":\"update\"},{\"args\":[{\"marker.color\":[[\"#B0BEC5\",\"red\",\"#B0BEC5\",\"#B0BEC5\",\"#B0BEC5\",\"#B0BEC5\",\"#B0BEC5\",\"#B0BEC5\",\"#B0BEC5\",\"#B0BEC5\",\"#B0BEC5\"]]}],\"label\":\"Topic 1\",\"method\":\"update\"},{\"args\":[{\"marker.color\":[[\"#B0BEC5\",\"#B0BEC5\",\"red\",\"#B0BEC5\",\"#B0BEC5\",\"#B0BEC5\",\"#B0BEC5\",\"#B0BEC5\",\"#B0BEC5\",\"#B0BEC5\",\"#B0BEC5\"]]}],\"label\":\"Topic 2\",\"method\":\"update\"},{\"args\":[{\"marker.color\":[[\"#B0BEC5\",\"#B0BEC5\",\"#B0BEC5\",\"red\",\"#B0BEC5\",\"#B0BEC5\",\"#B0BEC5\",\"#B0BEC5\",\"#B0BEC5\",\"#B0BEC5\",\"#B0BEC5\"]]}],\"label\":\"Topic 3\",\"method\":\"update\"},{\"args\":[{\"marker.color\":[[\"#B0BEC5\",\"#B0BEC5\",\"#B0BEC5\",\"#B0BEC5\",\"red\",\"#B0BEC5\",\"#B0BEC5\",\"#B0BEC5\",\"#B0BEC5\",\"#B0BEC5\",\"#B0BEC5\"]]}],\"label\":\"Topic 4\",\"method\":\"update\"},{\"args\":[{\"marker.color\":[[\"#B0BEC5\",\"#B0BEC5\",\"#B0BEC5\",\"#B0BEC5\",\"#B0BEC5\",\"red\",\"#B0BEC5\",\"#B0BEC5\",\"#B0BEC5\",\"#B0BEC5\",\"#B0BEC5\"]]}],\"label\":\"Topic 5\",\"method\":\"update\"},{\"args\":[{\"marker.color\":[[\"#B0BEC5\",\"#B0BEC5\",\"#B0BEC5\",\"#B0BEC5\",\"#B0BEC5\",\"#B0BEC5\",\"red\",\"#B0BEC5\",\"#B0BEC5\",\"#B0BEC5\",\"#B0BEC5\"]]}],\"label\":\"Topic 6\",\"method\":\"update\"},{\"args\":[{\"marker.color\":[[\"#B0BEC5\",\"#B0BEC5\",\"#B0BEC5\",\"#B0BEC5\",\"#B0BEC5\",\"#B0BEC5\",\"#B0BEC5\",\"red\",\"#B0BEC5\",\"#B0BEC5\",\"#B0BEC5\"]]}],\"label\":\"Topic 7\",\"method\":\"update\"},{\"args\":[{\"marker.color\":[[\"#B0BEC5\",\"#B0BEC5\",\"#B0BEC5\",\"#B0BEC5\",\"#B0BEC5\",\"#B0BEC5\",\"#B0BEC5\",\"#B0BEC5\",\"red\",\"#B0BEC5\",\"#B0BEC5\"]]}],\"label\":\"Topic 8\",\"method\":\"update\"},{\"args\":[{\"marker.color\":[[\"#B0BEC5\",\"#B0BEC5\",\"#B0BEC5\",\"#B0BEC5\",\"#B0BEC5\",\"#B0BEC5\",\"#B0BEC5\",\"#B0BEC5\",\"#B0BEC5\",\"red\",\"#B0BEC5\"]]}],\"label\":\"Topic 9\",\"method\":\"update\"},{\"args\":[{\"marker.color\":[[\"#B0BEC5\",\"#B0BEC5\",\"#B0BEC5\",\"#B0BEC5\",\"#B0BEC5\",\"#B0BEC5\",\"#B0BEC5\",\"#B0BEC5\",\"#B0BEC5\",\"#B0BEC5\",\"red\"]]}],\"label\":\"Topic 10\",\"method\":\"update\"}]}],\"shapes\":[{\"line\":{\"color\":\"#CFD8DC\",\"width\":2},\"type\":\"line\",\"x0\":3.248750329017639,\"x1\":3.248750329017639,\"y0\":1.9781683802604675,\"y1\":32.66703834533691},{\"line\":{\"color\":\"#9E9E9E\",\"width\":2},\"type\":\"line\",\"x0\":-16.315748929977417,\"x1\":22.813249588012695,\"y0\":17.32260336279869,\"y1\":17.32260336279869}],\"annotations\":[{\"showarrow\":false,\"text\":\"D1\",\"x\":-16.315748929977417,\"y\":17.32260336279869,\"yshift\":10},{\"showarrow\":false,\"text\":\"D2\",\"x\":3.248750329017639,\"xshift\":10,\"y\":32.66703834533691}]},                        {\"responsive\": true}                    ).then(function(){\n",
              "                            \n",
              "var gd = document.getElementById('b285eccc-f47e-4138-bc94-53a45c7f867c');\n",
              "var x = new MutationObserver(function (mutations, observer) {{\n",
              "        var display = window.getComputedStyle(gd).display;\n",
              "        if (!display || display === 'none') {{\n",
              "            console.log([gd, 'removed!']);\n",
              "            Plotly.purge(gd);\n",
              "            observer.disconnect();\n",
              "        }}\n",
              "}});\n",
              "\n",
              "// Listen for the removal of the full notebook cells\n",
              "var notebookContainer = gd.closest('#notebook-container');\n",
              "if (notebookContainer) {{\n",
              "    x.observe(notebookContainer, {childList: true});\n",
              "}}\n",
              "\n",
              "// Listen for the clearing of the current output cell\n",
              "var outputEl = gd.closest('.output');\n",
              "if (outputEl) {{\n",
              "    x.observe(outputEl, {childList: true});\n",
              "}}\n",
              "\n",
              "                        })                };                            </script>        </div>\n",
              "</body>\n",
              "</html>"
            ]
          },
          "metadata": {},
          "output_type": "display_data"
        }
      ],
      "source": [
        "# To visualize topics in 2D\n",
        "topic_model.visualize_topics() # Project topics into 2D space using dimensionality reduction"
      ]
    },
    {
      "cell_type": "markdown",
      "metadata": {
        "id": "c_7rseH8Txl3"
      },
      "source": [
        "**Purpose:** This plot shows topics as circles in 2D space where distance represents similarity. Topics that are close together are more semantically related."
      ]
    },
    {
      "cell_type": "markdown",
      "metadata": {
        "id": "KcehxHYpT63z"
      },
      "source": [
        "# Visualization 4: Hierarchical Topic Clustering\n",
        "The hierarchical relationship between topics is displayed:"
      ]
    },
    {
      "cell_type": "code",
      "execution_count": null,
      "metadata": {
        "colab": {
          "base_uri": "https://localhost:8080/",
          "height": 382
        },
        "id": "Cj2iBhzF0_Gr",
        "outputId": "57347fea-9b71-44a5-dc01-107f238feef1"
      },
      "outputs": [
        {
          "data": {
            "text/html": [
              "<html>\n",
              "<head><meta charset=\"utf-8\" /></head>\n",
              "<body>\n",
              "    <div>            <script src=\"https://cdnjs.cloudflare.com/ajax/libs/mathjax/2.7.5/MathJax.js?config=TeX-AMS-MML_SVG\"></script><script type=\"text/javascript\">if (window.MathJax && window.MathJax.Hub && window.MathJax.Hub.Config) {window.MathJax.Hub.Config({SVG: {font: \"STIX-Web\"}});}</script>                <script type=\"text/javascript\">window.PlotlyConfig = {MathJaxConfig: 'local'};</script>\n",
              "        <script charset=\"utf-8\" src=\"https://cdn.plot.ly/plotly-2.35.2.min.js\"></script>                <div id=\"7ca03596-3c80-4e58-a470-e7ed0cb8877d\" class=\"plotly-graph-div\" style=\"height:365px; width:1000px;\"></div>            <script type=\"text/javascript\">                                    window.PLOTLYENV=window.PLOTLYENV || {};                                    if (document.getElementById(\"7ca03596-3c80-4e58-a470-e7ed0cb8877d\")) {                    Plotly.newPlot(                        \"7ca03596-3c80-4e58-a470-e7ed0cb8877d\",                        [{\"hoverinfo\":\"text\",\"marker\":{\"color\":\"rgb(61,153,112)\"},\"mode\":\"lines\",\"text\":[\"ai_young_entrepreneur_entrepreneurship_ai tool\",\"\",\"\",\"ai_dataset_governance_ibid_funding\"],\"x\":[0.0,0.6317465754929065,0.6317465754929065,0.0],\"xaxis\":\"x\",\"y\":[-5.0,-5.0,-15.0,-15.0],\"yaxis\":\"y\",\"type\":\"scatter\"},{\"hoverinfo\":\"text\",\"marker\":{\"color\":\"rgb(255,65,54)\"},\"mode\":\"lines\",\"text\":[\"nancial_survey_figure_household_finaccess\",\"\",\"\",\"digital inclusion_internet access_south_infrastructure_ict\"],\"x\":[0.0,0.59799271091611,0.59799271091611,0.0],\"xaxis\":\"x\",\"y\":[-45.0,-45.0,-55.0,-55.0],\"yaxis\":\"y\",\"type\":\"scatter\"},{\"hoverinfo\":\"text\",\"marker\":{\"color\":\"rgb(255,65,54)\"},\"mode\":\"lines\",\"text\":[\"digital platform_livelihood_young_platform livelihood_impairment\",\"\",\"\",\"digital inclusion_survey_household_nancial_figure\"],\"x\":[0.0,0.8198112926951112,0.8198112926951112,0.59799271091611],\"xaxis\":\"x\",\"y\":[-35.0,-35.0,-50.0,-50.0],\"yaxis\":\"y\",\"type\":\"scatter\"},{\"hoverinfo\":\"text\",\"marker\":{\"color\":\"rgb(255,65,54)\"},\"mode\":\"lines\",\"text\":[\"telecom_director_outlet_panel_google\",\"\",\"\",\"mobile internet_gsma_cost_cent_social protection\"],\"x\":[0.0,0.696939940307653,0.696939940307653,0.0],\"xaxis\":\"x\",\"y\":[-75.0,-75.0,-85.0,-85.0],\"yaxis\":\"y\",\"type\":\"scatter\"},{\"hoverinfo\":\"text\",\"marker\":{\"color\":\"rgb(255,65,54)\"},\"mode\":\"lines\",\"text\":[\"centre_tech_accesstech_mtn_app\",\"\",\"\",\"mobile internet_app_deaf_customer_cost\"],\"x\":[0.0,0.7731766031347362,0.7731766031347362,0.696939940307653],\"xaxis\":\"x\",\"y\":[-65.0,-65.0,-80.0,-80.0],\"yaxis\":\"y\",\"type\":\"scatter\"},{\"hoverinfo\":\"text\",\"marker\":{\"color\":\"rgb(255,65,54)\"},\"mode\":\"lines\",\"text\":[\"mobile internet_app_deaf_customer_cost\",\"\",\"\",\"quality_teacher_approximately_attend_emerge technology\"],\"x\":[0.7731766031347362,0.8733415518394373,0.8733415518394373,0.0],\"xaxis\":\"x\",\"y\":[-72.5,-72.5,-95.0,-95.0],\"yaxis\":\"y\",\"type\":\"scatter\"},{\"hoverinfo\":\"text\",\"marker\":{\"color\":\"rgb(255,65,54)\"},\"mode\":\"lines\",\"text\":[\"survey_digital inclusion_household_nancial_respondent\",\"\",\"\",\"mobile internet_app_deaf_customer_cost\"],\"x\":[0.8198112926951112,0.9149611277897303,0.9149611277897303,0.8733415518394373],\"xaxis\":\"x\",\"y\":[-42.5,-42.5,-83.75,-83.75],\"yaxis\":\"y\",\"type\":\"scatter\"},{\"hoverinfo\":\"text\",\"marker\":{\"color\":\"rgb(255,65,54)\"},\"mode\":\"lines\",\"text\":[\"pwd_digital inclusion_program_project enable_engagement\",\"\",\"\",\"survey_digital inclusion_2021_household_ict\"],\"x\":[0.0,0.934725449164057,0.934725449164057,0.9149611277897303],\"xaxis\":\"x\",\"y\":[-25.0,-25.0,-63.125,-63.125],\"yaxis\":\"y\",\"type\":\"scatter\"},{\"hoverinfo\":\"text\",\"marker\":{\"color\":\"rgb(255,65,54)\"},\"mode\":\"lines\",\"text\":[\"survey_digital inclusion_2021_household_ict\",\"\",\"\",\"inclusive datum_sightsaver_safaricom_plan_advance\"],\"x\":[0.934725449164057,0.9560049684325037,0.9560049684325037,0.0],\"xaxis\":\"x\",\"y\":[-44.0625,-44.0625,-105.0,-105.0],\"yaxis\":\"y\",\"type\":\"scatter\"},{\"hoverinfo\":\"text\",\"marker\":{\"color\":\"rgb(0,116,217)\"},\"mode\":\"lines\",\"text\":[\"ai_dataset_governance_ibid_funding\",\"\",\"\",\"survey_digital inclusion_2021_household_ict\"],\"x\":[0.6317465754929065,1.0871585365753216,1.0871585365753216,0.9560049684325037],\"xaxis\":\"x\",\"y\":[-10.0,-10.0,-74.53125,-74.53125],\"yaxis\":\"y\",\"type\":\"scatter\"},{\"hoverinfo\":\"text\",\"hovertext\":[\"mobile internet_app_deaf_customer_cost\",\"survey_digital inclusion_household_nancial_respondent\",\"survey_digital inclusion_2021_household_ict\",\"ai_dataset_governance_ibid_funding\"],\"marker\":{\"color\":\"black\"},\"mode\":\"markers\",\"showlegend\":false,\"x\":[0.7731766031347362,0.8198112926951112,0.934725449164057,0.6317465754929065],\"y\":[-72.5,-42.5,-44.0625,-10.0],\"type\":\"scatter\"},{\"hoverinfo\":\"text\",\"hovertext\":[\"digital inclusion_survey_household_nancial_figure\",\"mobile internet_app_deaf_customer_cost\",\"mobile internet_app_deaf_customer_cost\",\"survey_digital inclusion_2021_household_ict\",\"survey_digital inclusion_2021_household_ict\"],\"marker\":{\"color\":\"black\"},\"mode\":\"markers\",\"showlegend\":false,\"x\":[0.59799271091611,0.696939940307653,0.8733415518394373,0.9149611277897303,0.9560049684325037],\"y\":[-50.0,-80.0,-83.75,-63.125,-74.53125],\"type\":\"scatter\"}],                        {\"autosize\":false,\"height\":365,\"hovermode\":\"closest\",\"showlegend\":false,\"width\":1000,\"xaxis\":{\"mirror\":\"allticks\",\"rangemode\":\"tozero\",\"showgrid\":false,\"showline\":true,\"showticklabels\":true,\"ticks\":\"outside\",\"type\":\"linear\",\"zeroline\":false},\"yaxis\":{\"mirror\":\"allticks\",\"rangemode\":\"tozero\",\"showgrid\":false,\"showline\":true,\"showticklabels\":true,\"tickmode\":\"array\",\"ticks\":\"outside\",\"ticktext\":[\"2_ai_young_entrepreneur\",\"8_ai_dataset_governance\",\"7_pwd_digital inclusion_pro...\",\"10_digital platform_livelih...\",\"9_nancial_survey_figure\",\"1_digital inclusion_interne...\",\"0_centre_tech_accesstech\",\"6_telecom_director_outlet\",\"4_mobile internet_gsma_cost\",\"3_quality_teacher_approxima...\",\"5_inclusive datum_sightsave...\"],\"tickvals\":[-5.0,-15.0,-25.0,-35.0,-45.0,-55.0,-65.0,-75.0,-85.0,-95.0,-105.0],\"type\":\"linear\",\"zeroline\":false,\"range\":[-110.0,0.0]},\"template\":{\"data\":{\"barpolar\":[{\"marker\":{\"line\":{\"color\":\"white\",\"width\":0.5},\"pattern\":{\"fillmode\":\"overlay\",\"size\":10,\"solidity\":0.2}},\"type\":\"barpolar\"}],\"bar\":[{\"error_x\":{\"color\":\"#2a3f5f\"},\"error_y\":{\"color\":\"#2a3f5f\"},\"marker\":{\"line\":{\"color\":\"white\",\"width\":0.5},\"pattern\":{\"fillmode\":\"overlay\",\"size\":10,\"solidity\":0.2}},\"type\":\"bar\"}],\"carpet\":[{\"aaxis\":{\"endlinecolor\":\"#2a3f5f\",\"gridcolor\":\"#C8D4E3\",\"linecolor\":\"#C8D4E3\",\"minorgridcolor\":\"#C8D4E3\",\"startlinecolor\":\"#2a3f5f\"},\"baxis\":{\"endlinecolor\":\"#2a3f5f\",\"gridcolor\":\"#C8D4E3\",\"linecolor\":\"#C8D4E3\",\"minorgridcolor\":\"#C8D4E3\",\"startlinecolor\":\"#2a3f5f\"},\"type\":\"carpet\"}],\"choropleth\":[{\"colorbar\":{\"outlinewidth\":0,\"ticks\":\"\"},\"type\":\"choropleth\"}],\"contourcarpet\":[{\"colorbar\":{\"outlinewidth\":0,\"ticks\":\"\"},\"type\":\"contourcarpet\"}],\"contour\":[{\"colorbar\":{\"outlinewidth\":0,\"ticks\":\"\"},\"colorscale\":[[0.0,\"#0d0887\"],[0.1111111111111111,\"#46039f\"],[0.2222222222222222,\"#7201a8\"],[0.3333333333333333,\"#9c179e\"],[0.4444444444444444,\"#bd3786\"],[0.5555555555555556,\"#d8576b\"],[0.6666666666666666,\"#ed7953\"],[0.7777777777777778,\"#fb9f3a\"],[0.8888888888888888,\"#fdca26\"],[1.0,\"#f0f921\"]],\"type\":\"contour\"}],\"heatmapgl\":[{\"colorbar\":{\"outlinewidth\":0,\"ticks\":\"\"},\"colorscale\":[[0.0,\"#0d0887\"],[0.1111111111111111,\"#46039f\"],[0.2222222222222222,\"#7201a8\"],[0.3333333333333333,\"#9c179e\"],[0.4444444444444444,\"#bd3786\"],[0.5555555555555556,\"#d8576b\"],[0.6666666666666666,\"#ed7953\"],[0.7777777777777778,\"#fb9f3a\"],[0.8888888888888888,\"#fdca26\"],[1.0,\"#f0f921\"]],\"type\":\"heatmapgl\"}],\"heatmap\":[{\"colorbar\":{\"outlinewidth\":0,\"ticks\":\"\"},\"colorscale\":[[0.0,\"#0d0887\"],[0.1111111111111111,\"#46039f\"],[0.2222222222222222,\"#7201a8\"],[0.3333333333333333,\"#9c179e\"],[0.4444444444444444,\"#bd3786\"],[0.5555555555555556,\"#d8576b\"],[0.6666666666666666,\"#ed7953\"],[0.7777777777777778,\"#fb9f3a\"],[0.8888888888888888,\"#fdca26\"],[1.0,\"#f0f921\"]],\"type\":\"heatmap\"}],\"histogram2dcontour\":[{\"colorbar\":{\"outlinewidth\":0,\"ticks\":\"\"},\"colorscale\":[[0.0,\"#0d0887\"],[0.1111111111111111,\"#46039f\"],[0.2222222222222222,\"#7201a8\"],[0.3333333333333333,\"#9c179e\"],[0.4444444444444444,\"#bd3786\"],[0.5555555555555556,\"#d8576b\"],[0.6666666666666666,\"#ed7953\"],[0.7777777777777778,\"#fb9f3a\"],[0.8888888888888888,\"#fdca26\"],[1.0,\"#f0f921\"]],\"type\":\"histogram2dcontour\"}],\"histogram2d\":[{\"colorbar\":{\"outlinewidth\":0,\"ticks\":\"\"},\"colorscale\":[[0.0,\"#0d0887\"],[0.1111111111111111,\"#46039f\"],[0.2222222222222222,\"#7201a8\"],[0.3333333333333333,\"#9c179e\"],[0.4444444444444444,\"#bd3786\"],[0.5555555555555556,\"#d8576b\"],[0.6666666666666666,\"#ed7953\"],[0.7777777777777778,\"#fb9f3a\"],[0.8888888888888888,\"#fdca26\"],[1.0,\"#f0f921\"]],\"type\":\"histogram2d\"}],\"histogram\":[{\"marker\":{\"pattern\":{\"fillmode\":\"overlay\",\"size\":10,\"solidity\":0.2}},\"type\":\"histogram\"}],\"mesh3d\":[{\"colorbar\":{\"outlinewidth\":0,\"ticks\":\"\"},\"type\":\"mesh3d\"}],\"parcoords\":[{\"line\":{\"colorbar\":{\"outlinewidth\":0,\"ticks\":\"\"}},\"type\":\"parcoords\"}],\"pie\":[{\"automargin\":true,\"type\":\"pie\"}],\"scatter3d\":[{\"line\":{\"colorbar\":{\"outlinewidth\":0,\"ticks\":\"\"}},\"marker\":{\"colorbar\":{\"outlinewidth\":0,\"ticks\":\"\"}},\"type\":\"scatter3d\"}],\"scattercarpet\":[{\"marker\":{\"colorbar\":{\"outlinewidth\":0,\"ticks\":\"\"}},\"type\":\"scattercarpet\"}],\"scattergeo\":[{\"marker\":{\"colorbar\":{\"outlinewidth\":0,\"ticks\":\"\"}},\"type\":\"scattergeo\"}],\"scattergl\":[{\"marker\":{\"colorbar\":{\"outlinewidth\":0,\"ticks\":\"\"}},\"type\":\"scattergl\"}],\"scattermapbox\":[{\"marker\":{\"colorbar\":{\"outlinewidth\":0,\"ticks\":\"\"}},\"type\":\"scattermapbox\"}],\"scatterpolargl\":[{\"marker\":{\"colorbar\":{\"outlinewidth\":0,\"ticks\":\"\"}},\"type\":\"scatterpolargl\"}],\"scatterpolar\":[{\"marker\":{\"colorbar\":{\"outlinewidth\":0,\"ticks\":\"\"}},\"type\":\"scatterpolar\"}],\"scatter\":[{\"fillpattern\":{\"fillmode\":\"overlay\",\"size\":10,\"solidity\":0.2},\"type\":\"scatter\"}],\"scatterternary\":[{\"marker\":{\"colorbar\":{\"outlinewidth\":0,\"ticks\":\"\"}},\"type\":\"scatterternary\"}],\"surface\":[{\"colorbar\":{\"outlinewidth\":0,\"ticks\":\"\"},\"colorscale\":[[0.0,\"#0d0887\"],[0.1111111111111111,\"#46039f\"],[0.2222222222222222,\"#7201a8\"],[0.3333333333333333,\"#9c179e\"],[0.4444444444444444,\"#bd3786\"],[0.5555555555555556,\"#d8576b\"],[0.6666666666666666,\"#ed7953\"],[0.7777777777777778,\"#fb9f3a\"],[0.8888888888888888,\"#fdca26\"],[1.0,\"#f0f921\"]],\"type\":\"surface\"}],\"table\":[{\"cells\":{\"fill\":{\"color\":\"#EBF0F8\"},\"line\":{\"color\":\"white\"}},\"header\":{\"fill\":{\"color\":\"#C8D4E3\"},\"line\":{\"color\":\"white\"}},\"type\":\"table\"}]},\"layout\":{\"annotationdefaults\":{\"arrowcolor\":\"#2a3f5f\",\"arrowhead\":0,\"arrowwidth\":1},\"autotypenumbers\":\"strict\",\"coloraxis\":{\"colorbar\":{\"outlinewidth\":0,\"ticks\":\"\"}},\"colorscale\":{\"diverging\":[[0,\"#8e0152\"],[0.1,\"#c51b7d\"],[0.2,\"#de77ae\"],[0.3,\"#f1b6da\"],[0.4,\"#fde0ef\"],[0.5,\"#f7f7f7\"],[0.6,\"#e6f5d0\"],[0.7,\"#b8e186\"],[0.8,\"#7fbc41\"],[0.9,\"#4d9221\"],[1,\"#276419\"]],\"sequential\":[[0.0,\"#0d0887\"],[0.1111111111111111,\"#46039f\"],[0.2222222222222222,\"#7201a8\"],[0.3333333333333333,\"#9c179e\"],[0.4444444444444444,\"#bd3786\"],[0.5555555555555556,\"#d8576b\"],[0.6666666666666666,\"#ed7953\"],[0.7777777777777778,\"#fb9f3a\"],[0.8888888888888888,\"#fdca26\"],[1.0,\"#f0f921\"]],\"sequentialminus\":[[0.0,\"#0d0887\"],[0.1111111111111111,\"#46039f\"],[0.2222222222222222,\"#7201a8\"],[0.3333333333333333,\"#9c179e\"],[0.4444444444444444,\"#bd3786\"],[0.5555555555555556,\"#d8576b\"],[0.6666666666666666,\"#ed7953\"],[0.7777777777777778,\"#fb9f3a\"],[0.8888888888888888,\"#fdca26\"],[1.0,\"#f0f921\"]]},\"colorway\":[\"#636efa\",\"#EF553B\",\"#00cc96\",\"#ab63fa\",\"#FFA15A\",\"#19d3f3\",\"#FF6692\",\"#B6E880\",\"#FF97FF\",\"#FECB52\"],\"font\":{\"color\":\"#2a3f5f\"},\"geo\":{\"bgcolor\":\"white\",\"lakecolor\":\"white\",\"landcolor\":\"white\",\"showlakes\":true,\"showland\":true,\"subunitcolor\":\"#C8D4E3\"},\"hoverlabel\":{\"align\":\"left\"},\"hovermode\":\"closest\",\"mapbox\":{\"style\":\"light\"},\"paper_bgcolor\":\"white\",\"plot_bgcolor\":\"white\",\"polar\":{\"angularaxis\":{\"gridcolor\":\"#EBF0F8\",\"linecolor\":\"#EBF0F8\",\"ticks\":\"\"},\"bgcolor\":\"white\",\"radialaxis\":{\"gridcolor\":\"#EBF0F8\",\"linecolor\":\"#EBF0F8\",\"ticks\":\"\"}},\"scene\":{\"xaxis\":{\"backgroundcolor\":\"white\",\"gridcolor\":\"#DFE8F3\",\"gridwidth\":2,\"linecolor\":\"#EBF0F8\",\"showbackground\":true,\"ticks\":\"\",\"zerolinecolor\":\"#EBF0F8\"},\"yaxis\":{\"backgroundcolor\":\"white\",\"gridcolor\":\"#DFE8F3\",\"gridwidth\":2,\"linecolor\":\"#EBF0F8\",\"showbackground\":true,\"ticks\":\"\",\"zerolinecolor\":\"#EBF0F8\"},\"zaxis\":{\"backgroundcolor\":\"white\",\"gridcolor\":\"#DFE8F3\",\"gridwidth\":2,\"linecolor\":\"#EBF0F8\",\"showbackground\":true,\"ticks\":\"\",\"zerolinecolor\":\"#EBF0F8\"}},\"shapedefaults\":{\"line\":{\"color\":\"#2a3f5f\"}},\"ternary\":{\"aaxis\":{\"gridcolor\":\"#DFE8F3\",\"linecolor\":\"#A2B1C6\",\"ticks\":\"\"},\"baxis\":{\"gridcolor\":\"#DFE8F3\",\"linecolor\":\"#A2B1C6\",\"ticks\":\"\"},\"bgcolor\":\"white\",\"caxis\":{\"gridcolor\":\"#DFE8F3\",\"linecolor\":\"#A2B1C6\",\"ticks\":\"\"}},\"title\":{\"x\":0.05},\"xaxis\":{\"automargin\":true,\"gridcolor\":\"#EBF0F8\",\"linecolor\":\"#EBF0F8\",\"ticks\":\"\",\"title\":{\"standoff\":15},\"zerolinecolor\":\"#EBF0F8\",\"zerolinewidth\":2},\"yaxis\":{\"automargin\":true,\"gridcolor\":\"#EBF0F8\",\"linecolor\":\"#EBF0F8\",\"ticks\":\"\",\"title\":{\"standoff\":15},\"zerolinecolor\":\"#EBF0F8\",\"zerolinewidth\":2}}},\"title\":{\"font\":{\"size\":22,\"color\":\"Black\"},\"text\":\"\\u003cb\\u003eHierarchical Clustering\\u003c\\u002fb\\u003e\",\"x\":0.5,\"xanchor\":\"center\",\"yanchor\":\"top\"},\"hoverlabel\":{\"font\":{\"size\":16,\"family\":\"Rockwell\"},\"bgcolor\":\"white\"},\"plot_bgcolor\":\"#ECEFF1\"},                        {\"responsive\": true}                    ).then(function(){\n",
              "                            \n",
              "var gd = document.getElementById('7ca03596-3c80-4e58-a470-e7ed0cb8877d');\n",
              "var x = new MutationObserver(function (mutations, observer) {{\n",
              "        var display = window.getComputedStyle(gd).display;\n",
              "        if (!display || display === 'none') {{\n",
              "            console.log([gd, 'removed!']);\n",
              "            Plotly.purge(gd);\n",
              "            observer.disconnect();\n",
              "        }}\n",
              "}});\n",
              "\n",
              "// Listen for the removal of the full notebook cells\n",
              "var notebookContainer = gd.closest('#notebook-container');\n",
              "if (notebookContainer) {{\n",
              "    x.observe(notebookContainer, {childList: true});\n",
              "}}\n",
              "\n",
              "// Listen for the clearing of the current output cell\n",
              "var outputEl = gd.closest('.output');\n",
              "if (outputEl) {{\n",
              "    x.observe(outputEl, {childList: true});\n",
              "}}\n",
              "\n",
              "                        })                };                            </script>        </div>\n",
              "</body>\n",
              "</html>"
            ]
          },
          "metadata": {},
          "output_type": "display_data"
        }
      ],
      "source": [
        "topic_model.visualize_hierarchy(hierarchical_topics=hierarchical_topics) # Show dendrogram of topic relationships"
      ]
    },
    {
      "cell_type": "markdown",
      "metadata": {
        "id": "qF7-OLesUCLU"
      },
      "source": [
        "**Purpose:** This dendrogram shows how topics can be merged at different similarity levels, revealing the hierarchical structure of the topic space and which topics are most closely related."
      ]
    },
    {
      "cell_type": "markdown",
      "metadata": {
        "id": "Hu96N989Vkh3"
      },
      "source": [
        "# Results Interpretation\n",
        "Based on the visualizations:\n",
        "\n",
        "**Topic Distribution (11 Topics Discovered):**\n",
        "\n",
        "\n",
        "**Topic 0 (4 documents)**\n",
        "\n",
        "**Keywords:** ict, intellectual, national, communication, technology\n",
        "\n",
        "**Theme:** ICT and intellectual communication technologies\n",
        "\n",
        "**Topic 1 (3 documents)**\n",
        "\n",
        "**Keywords:** centre, tech, accesstech, mtn, app, button\n",
        "\n",
        "Theme: Technology centers and accessibility applications\n",
        "\n",
        "**Topic 2 (6 documents)**\n",
        "\n",
        "**Keywords:** digital inclusion, internet access, south, infrastructure\n",
        "\n",
        "**Theme:** Digital inclusion and internet infrastructure in South Africa\n",
        "\n",
        "**Topic 3 (2 documents)**\n",
        "\n",
        "**Keywords:** ai, young, entrepreneur, entrepreneurship\n",
        "\n",
        "**Theme:** AI and young entrepreneurship initiatives\n",
        "\n",
        "**Topic 4 (2 documents)**\n",
        "\n",
        "**Keywords:** quality, teacher, approximately, attend\n",
        "\n",
        "**Theme:** Educational quality and teacher attendance\n",
        "\n",
        "**Topic 5 (5 documents)**\n",
        "\n",
        "**Keywords:** mobile internet, gsma, cost, cent, social protection\n",
        "\n",
        "**Theme:** Mobile internet costs and social protection programs\n",
        "\n",
        "**Topic 6 (3 documents)**\n",
        "\n",
        "**Keywords:** inclusive datum, sightsaver, safaricom, plan\n",
        "\n",
        "**Theme:** Inclusive data initiatives and organizational partnerships\n",
        "\n",
        "**Topic 7 (4 documents)**\n",
        "\n",
        "**Keywords:** telecom, director, outlet, panel, google, safaricom\n",
        "\n",
        "**Theme:** Telecommunications leadership and industry panels\n",
        "\n",
        "**Topic 8 (2 documents)**\n",
        "\n",
        "**Keywords:** pwd, digital inclusion, program, project enable\n",
        "\n",
        "**Theme:** PWD-focused digital inclusion programs and enabling projects\n",
        "\n",
        "**Topic 9 (2 documents)**\n",
        "\n",
        "**Keywords:** ai, dataset, governance, ibid, funding, pwds\n",
        "\n",
        "**Theme:** AI governance, datasets, and PWD funding initiatives\n",
        "\n",
        "**Topic 10 (3 documents)**\n",
        "\n",
        "**Keywords:** nancial, survey, figure, household, inaccessible\n",
        "\n",
        "**Theme:** Financial surveys and household accessibility barriers\n",
        "\n",
        "**Topic 11 (2 documents)**\n",
        "\n",
        "**Keywords:** digital platform, livelihood, young, platform\n",
        "\n",
        "**Theme:** Digital platforms for youth livelihoods"
      ]
    },
    {
      "cell_type": "markdown",
      "metadata": {
        "id": "9FTGWoWJW7T0"
      },
      "source": [
        "# Key Insights:\n",
        "\n",
        "1. **Coherent Topics:** Each topic shows semantically related words and themes\n",
        "\n",
        "2. **Good Coverage:** Topics span infrastructure, policy, technology, and social aspects\n",
        "\n",
        "3. **Meaningful Clusters:** The hierarchical clustering reveals logical groupings\n",
        "\n",
        "4. **Balanced Distribution:** No single topic dominates, suggesting good topic diversity\n",
        "\n",
        "The analysis successfully identified distinct themes within the disability and digital inclusion domain, ranging from technical infrastructure to policy frameworks."
      ]
    }
  ],
  "metadata": {
    "colab": {
      "provenance": []
    },
    "kernelspec": {
      "display_name": "Python 3",
      "name": "python3"
    },
    "language_info": {
      "name": "python"
    }
  },
  "nbformat": 4,
  "nbformat_minor": 0
}
